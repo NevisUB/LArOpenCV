{
 "cells": [
  {
   "cell_type": "code",
   "execution_count": null,
   "metadata": {
    "collapsed": false
   },
   "outputs": [],
   "source": [
    "from larcv import larcv\n",
    "larcv.load_pyutil\n",
    "larcv.load_cvutil\n",
    "\n",
    "import ROOT\n",
    "from ROOT import fcllite\n",
    "from ROOT import geo2d\n",
    "pdraw = geo2d.PyDraw()\n",
    "from ROOT import larocv\n",
    "\n",
    "%matplotlib inline\n",
    "import matplotlib\n",
    "import matplotlib.pyplot as plt\n",
    "import numpy as np\n",
    "\n",
    "import cv2"
   ]
  },
  {
   "cell_type": "code",
   "execution_count": null,
   "metadata": {
    "collapsed": false
   },
   "outputs": [],
   "source": [
    "cmerge=larocv.ClusterMerge()\n",
    "cmerge._trilen=50\n",
    "cmerge._triangle=20"
   ]
  },
  {
   "cell_type": "code",
   "execution_count": null,
   "metadata": {
    "collapsed": false
   },
   "outputs": [],
   "source": [
    "img=cv2.imread(\"/Users/vgenty/Desktop/test.png\",0).astype(np.uint8)\n",
    "img[img==255]=0.0\n",
    "img[img>0]=255.0\n",
    "img2d=pdraw.mat(img)\n",
    "plt.imshow(img,cmap=\"Greys\",interpolation='none')\n",
    "fig=plt.gcf()\n",
    "fig.set_size_inches((10,10))\n",
    "ctor_v=larocv.FindContours(img2d)\n",
    "for ctor in ctor_v:\n",
    "    ctor=np.array([[pt.x,pt.y] for pt in ctor])\n",
    "    plt.plot(ctor[:,0],ctor[:,1],'-',lw=2)\n",
    "\n",
    "plt.plot(150,220,'*',color='yellow',markersize=20)\n",
    "\n",
    "\n",
    "start=ROOT.std.cv.Point_(\"float\")()\n",
    "start.x=150\n",
    "start.y=220\n",
    "flashlight_v=[]\n",
    "flashlight_v=cmerge.GenerateFlashlights(start,ctor_v)\n",
    "for ix,fl in enumerate(flashlight_v):\n",
    "    fl=[[pt.x,pt.y] for pt in fl]\n",
    "    fl.append(fl[0])\n",
    "    fl=np.array(fl)\n",
    "    p=plt.plot(fl[:,0],fl[:,1],'-o')\n",
    "    print ix,p[0].get_color()\n",
    "res=cmerge.MergeFlashlights(flashlight_v,3)\n",
    "res=[[pt.x,pt.y] for pt in res]\n",
    "res.append(res[0])\n",
    "res=np.array(res)\n",
    "plt.plot(res[:,0],res[:,1],lw=10,alpha=0.5,color='gray')\n",
    "plt.show()"
   ]
  },
  {
   "cell_type": "code",
   "execution_count": null,
   "metadata": {
    "collapsed": false
   },
   "outputs": [],
   "source": []
  }
 ],
 "metadata": {
  "kernelspec": {
   "display_name": "Python 2",
   "language": "python",
   "name": "python2"
  },
  "language_info": {
   "codemirror_mode": {
    "name": "ipython",
    "version": 2
   },
   "file_extension": ".py",
   "mimetype": "text/x-python",
   "name": "python",
   "nbconvert_exporter": "python",
   "pygments_lexer": "ipython2",
   "version": "2.7.10"
  }
 },
 "nbformat": 4,
 "nbformat_minor": 0
}
