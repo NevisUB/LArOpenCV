{
 "cells": [
  {
   "cell_type": "code",
   "execution_count": null,
   "metadata": {
    "collapsed": false
   },
   "outputs": [],
   "source": [
    "from larcv import larcv\n",
    "larcv.load_pyutil\n",
    "larcv.load_cvutil\n",
    "\n",
    "import cv2\n",
    "import ROOT\n",
    "from ROOT import fcllite\n",
    "from ROOT import geo2d\n",
    "from ROOT import larocv\n",
    "pdraw = geo2d.PyDraw()\n",
    "\n",
    "%matplotlib inline\n",
    "import matplotlib\n",
    "import matplotlib.pyplot as plt\n",
    "import numpy as np"
   ]
  },
  {
   "cell_type": "code",
   "execution_count": null,
   "metadata": {
    "collapsed": false
   },
   "outputs": [],
   "source": [
    "# make a fake TRACK image...\n",
    "a=np.zeros((485,485))\n",
    "\n",
    "trk_ctor = ROOT.std.vector(ROOT.cv.Point_('int'))()\n",
    "\n",
    "trk_ctor.clear()\n",
    "    \n",
    "pt_x=[]\n",
    "pt_y=[]\n",
    "\n",
    "trk_ctor.push_back(ROOT.cv.Point_(\"int\")(25,225))\n",
    "trk_ctor.push_back(ROOT.cv.Point_(\"int\")(50,225))\n",
    "trk_ctor.push_back(ROOT.cv.Point_(\"int\")(50,229))\n",
    "trk_ctor.push_back(ROOT.cv.Point_(\"int\")(29,229))\n",
    "trk_ctor.push_back(ROOT.cv.Point_(\"int\")(35,260))\n",
    "trk_ctor.push_back(ROOT.cv.Point_(\"int\")(33,260))\n",
    "trk_ctor.push_back(trk_ctor[0])\n",
    "for pt in trk_ctor:\n",
    "    pt_x.append(pt.x)\n",
    "    pt_y.append(pt.y)\n",
    "    plt.plot(pt_x,pt_y,'o-',color='black',lw=1)\n",
    "\n",
    "ax=plt.gca()\n",
    "#ax.set_xlim(0,450)\n",
    "#ax.set_ylim(0,450)\n",
    "plt.grid()\n",
    "plt.show()\n",
    "\n",
    "# make a path representing this contour\n",
    "path_list1 = []\n",
    "for pt in trk_ctor:\n",
    "    path_list1.append((pt.x,pt.y)) \n",
    "    "
   ]
  },
  {
   "cell_type": "code",
   "execution_count": null,
   "metadata": {
    "collapsed": false
   },
   "outputs": [],
   "source": [
    "path1 = matplotlib.path.Path(path_list1)\n",
    "path2 = matplotlib.path.Path(path_list2)\n",
    "\n",
    "img1 = path1.contains_points(np.row_stack(np.where(a==0)).T).reshape(485,485).astype(np.uint8)\n",
    "img4 = path2.contains_points(np.row_stack(np.where(b==0)).T).reshape(485,485).astype(np.uint8)\n",
    "\n",
    "###################TRACK IMAGE\n",
    "img1=np.where(img1>0,img1+80,0)\n",
    "img2 = img1.copy()\n",
    "img3 = img1.copy()\n",
    "\n",
    "M = cv2.getRotationMatrix2D((485/2,485/2),20,1)\n",
    "#rotate 1\n",
    "img1 = cv2.warpAffine(img1,M,(485,485))\n",
    "\n",
    "#get nonzero for 1, and move it...\n",
    "nzero=np.row_stack(np.where(img1>0)).T\n",
    "img1[nzero[:,0],nzero[:,1]]=0\n",
    "img1[nzero[:,0]+20,nzero[:,1]+75]=80\n",
    "\n",
    "M = cv2.getRotationMatrix2D((485/2,485/2),45,1)\n",
    "#rotate 2\n",
    "img2 = cv2.warpAffine(img2,M,(485,485))\n",
    "\n",
    "#flip 2\n",
    "img2 = img2[:,::-1]\n",
    "\n",
    "#get nonzero for 2, and move it...\n",
    "nzero=np.row_stack(np.where(img2>0)).T\n",
    "img2[nzero[:,0],nzero[:,1]]=0\n",
    "img2[nzero[:,0]+20,nzero[:,1]-179]=80\n",
    "\n",
    "#rotate 3\n",
    "M = cv2.getRotationMatrix2D((485/2,485/2),45,1)\n",
    "img3 = cv2.warpAffine(img3,M,(485,485))\n",
    "\n",
    "#get nonzero for 3, and move it...\n",
    "nzero=np.row_stack(np.where(img3>0)).T\n",
    "img3[nzero[:,0],nzero[:,1]]=0\n",
    "img3[nzero[:,0]+100,nzero[:,1]+148]=80\n",
    "\n",
    "trk_img = img1+img2+img3\n",
    "\n",
    "plt.imshow(trk_img,cmap='Greys',interpolation='none')\n",
    "ax=plt.gca()\n",
    "fig=plt.gcf()\n",
    "fig.set_size_inches(20,12)\n",
    "\n",
    "plt.rc('grid', linestyle=\"-\", color='black')\n",
    "\n",
    "mjx = mjy = 10.;\n",
    "mix = miy = 1.\n",
    "\n",
    "major_ticks_x = np.arange(0,485+mjx/2,mjx)                                                                                                                                                                                    \n",
    "major_ticks_y = np.arange(0,485+mjy/2,mjy)                                                                                                                                                                                    \n",
    "minor_ticks_x = np.arange(0+mix/2,485+mix*1.5,1)                                                                                                                                                                            \n",
    "minor_ticks_y = np.arange(0+miy/2,485+miy*1.5,1)                                                                                                                                                                            \n",
    "\n",
    "ax.set_xticks(major_ticks_x)                                                                                                                                                                                            \n",
    "ax.set_yticks(major_ticks_y)                                                                                                                                                                                            \n",
    "ax.grid(which='minor')                                                                                                                                                                                                  \n",
    "ax.set_xticklabels(major_ticks_x.astype(np.uint16),rotation=45,fontsize=10,minor=False)                                                                                                                                                   \n",
    "ax.set_yticklabels(major_ticks_y.astype(np.uint16),rotation=45,fontsize=10,minor=False) \n",
    "\n",
    "plt.grid()\n",
    "plt.show()"
   ]
  },
  {
   "cell_type": "code",
   "execution_count": null,
   "metadata": {
    "collapsed": true
   },
   "outputs": [],
   "source": [
    "slt = larocv.SingleLinearTrack()"
   ]
  },
  {
   "cell_type": "code",
   "execution_count": null,
   "metadata": {
    "collapsed": false
   },
   "outputs": [],
   "source": [
    "plt.imshow(trk_img,cmap='Greys',interpolation='none')\n",
    "ax=plt.gca()\n",
    "fig=plt.gcf()\n",
    "fig.set_size_inches(20,12)\n",
    "\n",
    "plt.rc('grid', linestyle=\"-\", color='black')\n",
    "\n",
    "mjx = mjy = 10.;\n",
    "mix = miy = 1.\n",
    "\n",
    "major_ticks_x = np.arange(0,485+mjx/2,mjx)                                                                                                                                                                                    \n",
    "major_ticks_y = np.arange(0,485+mjy/2,mjy)                                                                                                                                                                                    \n",
    "minor_ticks_x = np.arange(0+mix/2,485+mix*1.5,1)                                                                                                                                                                            \n",
    "minor_ticks_y = np.arange(0+miy/2,485+miy*1.5,1)                                                                                                                                                                            \n",
    "\n",
    "ax.set_xticks(major_ticks_x)                                                                                                                                                                                            \n",
    "ax.set_yticks(major_ticks_y)                                                                                                                                                                                            \n",
    "ax.grid(which='minor')                                                                                                                                                                                                  \n",
    "ax.set_xticklabels(major_ticks_x.astype(np.uint16),rotation=45,fontsize=10,minor=False)                                                                                                                                                   \n",
    "ax.set_yticklabels(major_ticks_y.astype(np.uint16),rotation=45,fontsize=10,minor=False) \n",
    "\n",
    "\n",
    "mat = pdraw.mat(trk_img.astype(np.float32))\n",
    "ctors=larocv.FindContours(mat)\n",
    "colors=['red','green','blue']\n",
    "for ix,ctor in enumerate(ctors):\n",
    "    pt1=ROOT.cv.Point_(\"float\")()\n",
    "    pt2=ROOT.cv.Point_(\"float\")()\n",
    "    slt.EdgesFromMeanValue(ctor,pt1,pt2)\n",
    "    ctor = [[pt.x,pt.y] for pt in ctor]\n",
    "    ctor.append(ctor[0])\n",
    "    ctor=np.array(ctor)\n",
    "    ax.plot(ctor[:,0],ctor[:,1],lw=2,color=colors[ix])\n",
    "    ax.plot(pt1.x,pt1.y,'*',color='yellow',markersize=20,alpha=0.7)\n",
    "    ax.plot(pt2.x,pt2.y,'o',color='yellow',markersize=20,alpha=0.7)\n",
    "    \n",
    "plt.grid()\n",
    "plt.show()"
   ]
  },
  {
   "cell_type": "code",
   "execution_count": null,
   "metadata": {
    "collapsed": true
   },
   "outputs": [],
   "source": []
  }
 ],
 "metadata": {
  "kernelspec": {
   "display_name": "Python 2",
   "language": "python",
   "name": "python2"
  },
  "language_info": {
   "codemirror_mode": {
    "name": "ipython",
    "version": 2
   },
   "file_extension": ".py",
   "mimetype": "text/x-python",
   "name": "python",
   "nbconvert_exporter": "python",
   "pygments_lexer": "ipython2",
   "version": "2.7.10"
  }
 },
 "nbformat": 4,
 "nbformat_minor": 0
}
