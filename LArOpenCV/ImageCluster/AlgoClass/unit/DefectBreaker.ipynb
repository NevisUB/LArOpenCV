{
 "cells": [
  {
   "cell_type": "code",
   "execution_count": null,
   "metadata": {
    "collapsed": true
   },
   "outputs": [],
   "source": [
    "import ROOT\n",
    "from ROOT import fcllite\n",
    "from ROOT import geo2d\n",
    "%matplotlib inline\n",
    "import matplotlib\n",
    "import matplotlib.pyplot as plt"
   ]
  },
  {
   "cell_type": "code",
   "execution_count": null,
   "metadata": {
    "collapsed": false
   },
   "outputs": [],
   "source": [
    "dfectb = ROOT.larocv.DefectBreaker()\n",
    "logger=dfectb.logger()\n",
    "logger.set(0)\n",
    "print \"Logger level is...\",logger.level()"
   ]
  },
  {
   "cell_type": "code",
   "execution_count": null,
   "metadata": {
    "collapsed": false
   },
   "outputs": [],
   "source": [
    "ctor = ROOT.std.vector(ROOT.cv.Point_('int'))()"
   ]
  },
  {
   "cell_type": "code",
   "execution_count": null,
   "metadata": {
    "collapsed": false
   },
   "outputs": [],
   "source": [
    "# make some lines\n",
    "line1 = geo2d.Line(\"float\")(50,50,-45)\n",
    "line2 = geo2d.Line(\"float\")(50,50,45)\n",
    "\n",
    "\n",
    "ctor.clear()\n",
    "\n",
    "\n",
    "for i in xrange(0,41,1):\n",
    "    ctor.push_back(ROOT.cv.Point_(\"int\")(int(i),int(line1.x(i))))\n",
    "for i in xrange(0,41,1):\n",
    "    ctor.push_back(ROOT.cv.Point_(\"int\")(int(i)+50,int(line2.x(i)+50)))\n",
    "for i in xrange(0,41,1):\n",
    "    ctor.push_back(ROOT.cv.Point_(\"int\")(int(i)+90,int(line1.x(i)-10)))\n",
    "for i in xrange(0,41,1):\n",
    "    ctor.push_back(ROOT.cv.Point_(\"int\")(int(i)+130,int(line2.x(i)+50)))\n",
    "for i in xrange(0,41,1):\n",
    "    ctor.push_back(ROOT.cv.Point_(\"int\")(int(i)+170,int(line1.x(i)-10)))\n",
    "for i in xrange(0,41,1):\n",
    "    ctor.push_back(ROOT.cv.Point_(\"int\")(int(i)+210,int(line2.x(i)+50)))\n",
    "    \n",
    "#for i in xrange(0,100,10):\n",
    "#    ctor.push_back(ROOT.cv.Point_(\"int\")(int(i)+50,int(line1.x(i))))\n",
    "    \n",
    "pt_x=[]\n",
    "pt_y=[]\n",
    "ctor.push_back(ROOT.cv.Point_(\"int\")(220,91))\n",
    "ctor.push_back(ROOT.cv.Point_(\"int\")(200,92))\n",
    "ctor.push_back(ROOT.cv.Point_(\"int\")(190,92))\n",
    "ctor.push_back(ROOT.cv.Point_(\"int\")(170,93))\n",
    "ctor.push_back(ROOT.cv.Point_(\"int\")(130,94))\n",
    "ctor.push_back(ROOT.cv.Point_(\"int\")(100,95))\n",
    "ctor.push_back(ROOT.cv.Point_(\"int\")(75,96))\n",
    "ctor.push_back(ROOT.cv.Point_(\"int\")(50,97))\n",
    "ctor.push_back(ROOT.cv.Point_(\"int\")(25,98))\n",
    "\n",
    "ctor.push_back(ctor[0])\n",
    "for pt in ctor:\n",
    "    pt_x.append(pt.x)\n",
    "    pt_y.append(pt.y)\n",
    "    plt.plot(pt_x,pt_y,'o-',color='black',lw=1)\n",
    "\n",
    "plt.grid()\n",
    "plt.show()"
   ]
  },
  {
   "cell_type": "code",
   "execution_count": null,
   "metadata": {
    "collapsed": true
   },
   "outputs": [],
   "source": [
    "empty_pset = fcllite.PSet(\"Empty\")\n",
    "dfectb.Configure(empty_pset)"
   ]
  },
  {
   "cell_type": "code",
   "execution_count": null,
   "metadata": {
    "collapsed": false
   },
   "outputs": [],
   "source": [
    "dfectb"
   ]
  },
  {
   "cell_type": "code",
   "execution_count": null,
   "metadata": {
    "collapsed": false
   },
   "outputs": [],
   "source": [
    "cluscomp = dfectb.SplitContour(ctor)"
   ]
  },
  {
   "cell_type": "code",
   "execution_count": null,
   "metadata": {
    "collapsed": false
   },
   "outputs": [],
   "source": [
    "print cluscomp.size()"
   ]
  },
  {
   "cell_type": "code",
   "execution_count": null,
   "metadata": {
    "collapsed": false
   },
   "outputs": [],
   "source": [
    "pt_x=[]\n",
    "pt_y=[]\n",
    "for pt in ctor:\n",
    "    pt_x.append(pt.x)\n",
    "    pt_y.append(pt.y)\n",
    "    plt.plot(pt_x,pt_y,'--o',color='black',lw=2)\n",
    "\n",
    "colors=['blue','green','red']\n",
    "    \n",
    "for ac_id in xrange(cluscomp.size()):\n",
    "    atomic_contour = cluscomp[ac_id]\n",
    "    print atomic_contour\n",
    "    pts_x=[]\n",
    "    pts_y=[]\n",
    "    for pt_id in xrange(atomic_contour.size()):\n",
    "        pts_x.append(atomic_contour[pt_id].x)\n",
    "        pts_y.append(atomic_contour[pt_id].y)\n",
    "    plt.plot(pts_x,pts_y,'-o',lw=5,alpha=0.5)\n",
    "    edges=atomic_contour.edges()\n",
    "    print \"(\",edges[0].x,\",\",edges[0].y,\") --> (\",edges[1].x,\",\",edges[1].y,\")\"\n",
    "    \n",
    "    plt.plot(edges[0].x,edges[0].y,'*',color=colors[ac_id],markersize=40,alpha=0.5)\n",
    "    plt.plot(edges[1].x,edges[1].y,'o',color=colors[ac_id],markersize=30,alpha=0.5)\n",
    "    \n",
    "plt.grid()\n",
    "fig=plt.gcf()\n",
    "fig.set_size_inches(10,6)\n",
    "ax=plt.gca()\n",
    "ax.set_ylim(49,110)\n",
    "ax.set_xlim(-10,260)"
   ]
  },
  {
   "cell_type": "code",
   "execution_count": null,
   "metadata": {
    "collapsed": true
   },
   "outputs": [],
   "source": []
  }
 ],
 "metadata": {
  "kernelspec": {
   "display_name": "Python 2",
   "language": "python",
   "name": "python2"
  },
  "language_info": {
   "codemirror_mode": {
    "name": "ipython",
    "version": 2
   },
   "file_extension": ".py",
   "mimetype": "text/x-python",
   "name": "python",
   "nbconvert_exporter": "python",
   "pygments_lexer": "ipython2",
   "version": "2.7.10"
  }
 },
 "nbformat": 4,
 "nbformat_minor": 0
}
