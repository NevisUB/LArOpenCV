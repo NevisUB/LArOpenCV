{
 "cells": [
  {
   "cell_type": "code",
   "execution_count": null,
   "metadata": {
    "collapsed": true
   },
   "outputs": [],
   "source": [
    "from larcv import larcv\n",
    "larcv.load_pyutil\n",
    "larcv.load_cvutil\n",
    "\n",
    "import ROOT\n",
    "from ROOT import fcllite\n",
    "from ROOT import geo2d\n",
    "pdraw = geo2d.PyDraw()\n",
    "from ROOT import larocv\n",
    "\n",
    "%matplotlib inline\n",
    "import matplotlib\n",
    "import matplotlib.pyplot as plt\n",
    "import numpy as np"
   ]
  },
  {
   "cell_type": "code",
   "execution_count": null,
   "metadata": {
    "collapsed": false
   },
   "outputs": [],
   "source": [
    "clusterhm = larocv.ClusterHIPMIP()\n",
    "logger=clusterhm.logger()\n",
    "logger.set(0)\n",
    "#set mask on\n",
    "clusterhm._mask_hip=True\n",
    "print \"Logger level is...\",logger.level()"
   ]
  },
  {
   "cell_type": "code",
   "execution_count": null,
   "metadata": {
    "collapsed": false
   },
   "outputs": [],
   "source": [
    "ctor = ROOT.std.vector(ROOT.cv.Point_('int'))()"
   ]
  },
  {
   "cell_type": "code",
   "execution_count": null,
   "metadata": {
    "collapsed": false
   },
   "outputs": [],
   "source": [
    "# make some lines\n",
    "line1 = geo2d.Line(\"float\")(50,50,-45)\n",
    "line2 = geo2d.Line(\"float\")(50,50,45)\n",
    "\n",
    "\n",
    "ctor.clear()\n",
    "\n",
    "\n",
    "for i in xrange(0,41,1):\n",
    "    ctor.push_back(ROOT.cv.Point_(\"int\")(int(i),int(line1.x(i))))\n",
    "for i in xrange(0,41,1):\n",
    "    ctor.push_back(ROOT.cv.Point_(\"int\")(int(i)+50,int(line2.x(i)+50)))\n",
    "for i in xrange(0,41,1):\n",
    "    ctor.push_back(ROOT.cv.Point_(\"int\")(int(i)+90,int(line1.x(i)-10)))\n",
    "for i in xrange(0,41,1):\n",
    "    ctor.push_back(ROOT.cv.Point_(\"int\")(int(i)+130,int(line2.x(i)+50)))\n",
    "for i in xrange(0,41,1):\n",
    "    ctor.push_back(ROOT.cv.Point_(\"int\")(int(i)+170,int(line1.x(i)-10)))\n",
    "for i in xrange(0,41,1):\n",
    "    ctor.push_back(ROOT.cv.Point_(\"int\")(int(i)+210,int(line2.x(i)+50)))\n",
    "    \n",
    "#for i in xrange(0,100,10):\n",
    "#    ctor.push_back(ROOT.cv.Point_(\"int\")(int(i)+50,int(line1.x(i))))\n",
    "    \n",
    "pt_x=[]\n",
    "pt_y=[]\n",
    "ctor.push_back(ROOT.cv.Point_(\"int\")(220,91))\n",
    "ctor.push_back(ROOT.cv.Point_(\"int\")(200,92))\n",
    "ctor.push_back(ROOT.cv.Point_(\"int\")(190,92))\n",
    "ctor.push_back(ROOT.cv.Point_(\"int\")(170,93))\n",
    "ctor.push_back(ROOT.cv.Point_(\"int\")(130,94))\n",
    "ctor.push_back(ROOT.cv.Point_(\"int\")(100,95))\n",
    "ctor.push_back(ROOT.cv.Point_(\"int\")(75,96))\n",
    "ctor.push_back(ROOT.cv.Point_(\"int\")(50,97))\n",
    "ctor.push_back(ROOT.cv.Point_(\"int\")(25,98))\n",
    "\n",
    "ctor.push_back(ctor[0])\n",
    "for pt in ctor:\n",
    "    pt_x.append(pt.x)\n",
    "    pt_y.append(pt.y)\n",
    "    plt.plot(pt_x,pt_y,'o-',color='black',lw=1)\n",
    "\n",
    "plt.grid()\n",
    "plt.show()"
   ]
  },
  {
   "cell_type": "code",
   "execution_count": null,
   "metadata": {
    "collapsed": false
   },
   "outputs": [],
   "source": [
    "clusterhm"
   ]
  },
  {
   "cell_type": "code",
   "execution_count": null,
   "metadata": {
    "collapsed": false
   },
   "outputs": [],
   "source": [
    "# make a fake image...\n",
    "a=np.zeros((450,450))"
   ]
  },
  {
   "cell_type": "code",
   "execution_count": null,
   "metadata": {
    "collapsed": false
   },
   "outputs": [],
   "source": [
    "# make a path representing this contour\n",
    "path_list1 = []\n",
    "path_list2 = []\n",
    "path_list3 = []\n",
    "for pt in ctor:\n",
    "    path_list1.append((pt.x,pt.y)) \n",
    "    path_list2.append((pt.x,pt.y+100))\n",
    "    path_list3.append((pt.x,pt.y+200))"
   ]
  },
  {
   "cell_type": "code",
   "execution_count": null,
   "metadata": {
    "collapsed": false
   },
   "outputs": [],
   "source": [
    "path1 = matplotlib.path.Path(path_list1)\n",
    "path2 = matplotlib.path.Path(path_list2)\n",
    "path3 = matplotlib.path.Path(path_list3)"
   ]
  },
  {
   "cell_type": "code",
   "execution_count": null,
   "metadata": {
    "collapsed": false
   },
   "outputs": [],
   "source": [
    "img1 = path1.contains_points(np.row_stack(np.where(a==0)).T).reshape(450,450).astype(np.uint8)\n",
    "img2 = path2.contains_points(np.row_stack(np.where(a==0)).T).reshape(450,450).astype(np.uint8)\n",
    "img3 = path3.contains_points(np.row_stack(np.where(a==0)).T).reshape(450,450).astype(np.uint8)\n",
    "\n",
    "#set img1 values to be 5 \n",
    "img1=np.where(img1>0,img1+5,0)\n",
    "#set img1 values to be 20\n",
    "img2=np.where(img2>0,img2+20,0)\n",
    "#set img2 values to be 60\n",
    "img3=np.where(img3>0,img3+60,0)\n",
    "\n",
    "#add them...\n",
    "img = img1+img2+img3\n",
    "\n",
    "plt.imshow(img,cmap='Greys',interpolation='none')\n",
    "plt.show()"
   ]
  },
  {
   "cell_type": "code",
   "execution_count": null,
   "metadata": {
    "collapsed": false
   },
   "outputs": [],
   "source": [
    "#Got a mat object to send...\n",
    "#mat = larcv.as_gray_mat(larcv.as_image2d(img))\n",
    "mat = pdraw.mat(img.astype(np.float32))"
   ]
  },
  {
   "cell_type": "code",
   "execution_count": null,
   "metadata": {
    "collapsed": false
   },
   "outputs": [],
   "source": [
    "hip_mip_pair = clusterhm.IsolateHIPMIP(mat)"
   ]
  },
  {
   "cell_type": "code",
   "execution_count": null,
   "metadata": {
    "collapsed": false
   },
   "outputs": [],
   "source": [
    "#mips...\n",
    "hips = hip_mip_pair.first\n",
    "#hips...\n",
    "mips = hip_mip_pair.second"
   ]
  },
  {
   "cell_type": "code",
   "execution_count": null,
   "metadata": {
    "collapsed": false
   },
   "outputs": [],
   "source": [
    "plt.imshow(img.T,cmap='Greys',interpolation='none')\n",
    "\n",
    "color='blue'\n",
    "for mip in mips:\n",
    "    ctor_v = np.array([[pt.x,pt.y] for pt in mip])\n",
    "    plt.plot(ctor_v[:,1],ctor_v[:,0],'-',lw=3,color=color)\n",
    "\n",
    "color='red'\n",
    "for hip in hips:\n",
    "    ctor_v = np.array([[pt.x,pt.y] for pt in hip])\n",
    "    plt.plot(ctor_v[:,1],ctor_v[:,0],'-',lw=3,color=color)\n",
    "\n",
    "ax=plt.gca()\n",
    "ax.text(200,400,\"Top ignored, below threshold\\n\\nRed == HIP\\nBlue == MIP\") \n",
    "fig=plt.gcf()\n",
    "fig.set_size_inches(10,6)\n",
    "plt.show()\n"
   ]
  },
  {
   "cell_type": "code",
   "execution_count": null,
   "metadata": {
    "collapsed": true
   },
   "outputs": [],
   "source": []
  }
 ],
 "metadata": {
  "kernelspec": {
   "display_name": "Python 2",
   "language": "python",
   "name": "python2"
  },
  "language_info": {
   "codemirror_mode": {
    "name": "ipython",
    "version": 2
   },
   "file_extension": ".py",
   "mimetype": "text/x-python",
   "name": "python",
   "nbconvert_exporter": "python",
   "pygments_lexer": "ipython2",
   "version": "2.7.10"
  }
 },
 "nbformat": 4,
 "nbformat_minor": 0
}
