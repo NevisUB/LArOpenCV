{
 "cells": [
  {
   "cell_type": "code",
   "execution_count": null,
   "metadata": {
    "collapsed": false
   },
   "outputs": [],
   "source": [
    "import ROOT\n",
    "from ROOT import larocv\n",
    "from ROOT.cv import Point_ as Point\n",
    "\n",
    "import numpy as np\n",
    "import matplotlib\n",
    "import matplotlib.pyplot as plt\n",
    "%matplotlib inline\n",
    "\n",
    "_=larocv.ClusterHIPMIP()"
   ]
  },
  {
   "cell_type": "code",
   "execution_count": null,
   "metadata": {
    "collapsed": false
   },
   "outputs": [],
   "source": [
    "#make a square contour\n",
    "geo2d_contour_t = ROOT.std.vector(Point(\"int\"))()\n",
    "geo2d_contour_t.push_back(Point(\"int\")(0,0))\n",
    "geo2d_contour_t.push_back(Point(\"int\")(10,0))\n",
    "geo2d_contour_t.push_back(Point(\"int\")(10,10))\n",
    "geo2d_contour_t.push_back(Point(\"int\")(0,10))\n",
    "\n",
    "ctor=np.array([[px.x,px.y] for px in geo2d_contour_t])\n",
    "\n",
    "fig,ax=plt.subplots(figsize=(10,6))\n",
    "ax.plot(ctor[:,0],ctor[:,1],'-o')\n",
    "ax.set_xlim(-20,20)\n",
    "ax.set_ylim(-20,20)\n",
    "print \"Averaged angle \",larocv.CircumferenceAngularSum(geo2d_contour_t)"
   ]
  },
  {
   "cell_type": "code",
   "execution_count": null,
   "metadata": {
    "collapsed": false
   },
   "outputs": [],
   "source": [
    "#make a square contour\n",
    "geo2d_contour_t = ROOT.std.vector(Point(\"int\"))()\n",
    "geo2d_contour_t.push_back(Point(\"int\")(0,0))\n",
    "geo2d_contour_t.push_back(Point(\"int\")(10,0))\n",
    "geo2d_contour_t.push_back(Point(\"int\")(5,10))\n",
    "\n",
    "ctor=np.array([[px.x,px.y] for px in geo2d_contour_t])\n",
    "\n",
    "fig,ax=plt.subplots(figsize=(10,6))\n",
    "ax.plot(ctor[:,0],ctor[:,1],'-o')\n",
    "ax.set_xlim(-20,20)\n",
    "ax.set_ylim(-20,20)\n",
    "print \"Averaged angle \",larocv.CircumferenceAngularSum(geo2d_contour_t)"
   ]
  },
  {
   "cell_type": "code",
   "execution_count": null,
   "metadata": {
    "collapsed": false
   },
   "outputs": [],
   "source": []
  }
 ],
 "metadata": {
  "kernelspec": {
   "display_name": "Python 2",
   "language": "python",
   "name": "python2"
  },
  "language_info": {
   "codemirror_mode": {
    "name": "ipython",
    "version": 2
   },
   "file_extension": ".py",
   "mimetype": "text/x-python",
   "name": "python",
   "nbconvert_exporter": "python",
   "pygments_lexer": "ipython2",
   "version": "2.7.10"
  }
 },
 "nbformat": 4,
 "nbformat_minor": 0
}
