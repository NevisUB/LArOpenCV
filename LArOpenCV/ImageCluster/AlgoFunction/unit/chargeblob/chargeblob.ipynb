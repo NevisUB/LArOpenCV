{
 "cells": [
  {
   "cell_type": "code",
   "execution_count": null,
   "metadata": {
    "collapsed": false
   },
   "outputs": [],
   "source": [
    "import ROOT\n",
    "from ROOT import larocv\n",
    "larocv.AlgoFunctionLoader()\n",
    "\n",
    "import matplotlib\n",
    "import matplotlib.pyplot as plt\n",
    "import numpy as np\n",
    "\n",
    "import cv2\n",
    "\n",
    "from ROOT import geo2d\n",
    "pydraw=geo2d.PyDraw()\n",
    "%matplotlib inline"
   ]
  },
  {
   "cell_type": "code",
   "execution_count": null,
   "metadata": {
    "collapsed": false
   },
   "outputs": [],
   "source": [
    "test_img=cv2.imread(\"test.png\",0)\n",
    "test_img[test_img>0]=1\n",
    "test_img[test_img==0]=255\n",
    "test_img[test_img==1]=0\n",
    "fig,ax=plt.subplots(figsize=(20,20))\n",
    "plt.imshow(test_img,cmap='Greys',interpolation='none')\n",
    "x0=247\n",
    "y0=307\n",
    "center_pt  = ROOT.cv.Point_(\"float\")(x0,y0)\n",
    "zero_pt=ROOT.cv.Point_(\"float\")(0,0)\n",
    "res_circle = geo2d.Circle(\"float\")(zero_pt,0)\n",
    "ax.plot(x0,y0,'o',markersize=5,color='red')\n",
    "test_mat=pydraw.mat(test_img)\n",
    "res=larocv.ChargeBlobCircleEstimate(test_mat,center_pt,res_circle,0.12,3,15,1)\n",
    "if res==False:\n",
    "    print \"Failed\"\n",
    "circle_ = matplotlib.patches.Circle((res_circle.center.x,res_circle.center.y),\n",
    "                                    res_circle.radius,\n",
    "                                    ec='cyan',\n",
    "                                    fc='none',\n",
    "                                    lw=2)\n",
    "ax.add_patch(circle_)\n",
    "ax.set_xlim(x0-20,x0+20)\n",
    "ax.set_ylim(y0-20,y0+20)\n",
    "ax.grid()\n",
    "plt.show()"
   ]
  },
  {
   "cell_type": "code",
   "execution_count": null,
   "metadata": {
    "collapsed": false
   },
   "outputs": [],
   "source": []
  },
  {
   "cell_type": "code",
   "execution_count": null,
   "metadata": {
    "collapsed": false
   },
   "outputs": [],
   "source": []
  }
 ],
 "metadata": {
  "kernelspec": {
   "display_name": "Python 2",
   "language": "python",
   "name": "python2"
  },
  "language_info": {
   "codemirror_mode": {
    "name": "ipython",
    "version": 2
   },
   "file_extension": ".py",
   "mimetype": "text/x-python",
   "name": "python",
   "nbconvert_exporter": "python",
   "pygments_lexer": "ipython2",
   "version": "2.7.10"
  }
 },
 "nbformat": 4,
 "nbformat_minor": 0
}
