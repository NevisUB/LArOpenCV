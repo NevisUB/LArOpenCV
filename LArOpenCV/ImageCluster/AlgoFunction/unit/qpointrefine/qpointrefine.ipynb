{
 "cells": [
  {
   "cell_type": "code",
   "execution_count": null,
   "metadata": {
    "collapsed": false
   },
   "outputs": [],
   "source": [
    "import ROOT\n",
    "from ROOT import larocv\n",
    "larocv.AlgoFunctionLoader()\n",
    "\n",
    "import matplotlib\n",
    "import matplotlib.pyplot as plt\n",
    "import numpy as np\n",
    "\n",
    "import cv2\n",
    "\n",
    "from ROOT import geo2d\n",
    "pydraw=geo2d.PyDraw()\n",
    "%matplotlib inline"
   ]
  },
  {
   "cell_type": "code",
   "execution_count": null,
   "metadata": {
    "collapsed": false,
    "scrolled": false
   },
   "outputs": [],
   "source": [
    "test_img=cv2.imread(\"test.png\",0)\n",
    "test_img[test_img>0]=1\n",
    "test_img[test_img==0]=255\n",
    "test_img[test_img==1]=0\n",
    "iz=0\n",
    "for outerrad in xrange(5,40,5):\n",
    "    for innerrad in xrange(5,outerrad,2):\n",
    "        fig,ax=plt.subplots(figsize=(20,20))\n",
    "        ax.imshow(test_img,cmap='Greys',interpolation='none')\n",
    "        x1=278\n",
    "        y1=270\n",
    "        r=outerrad\n",
    "        circle=geo2d.Circle(\"float\")(x1,y1,r)\n",
    "        ax.add_patch(matplotlib.patches.Circle((circle.center.x,circle.center.y),\n",
    "                                               circle.radius,\n",
    "                                               lw=2,\n",
    "                                               ec='cyan',\n",
    "                                               fc='none'))\n",
    "        test_cv=pydraw.mat(test_img)\n",
    "        xs_v = larocv.QPointOnCircle(test_cv,circle)\n",
    "        for ix in xrange(xs_v.size()):\n",
    "            xs=xs_v[ix]\n",
    "            ax.plot(xs.x,xs.y,'o',markersize=20,color='orange')\n",
    "\n",
    "\n",
    "        ax.plot(x1,y1,'o',color='red',markersize=20)\n",
    "        ax.set_xlim(x1-50,x1+100)\n",
    "        ax.set_ylim(y1-50,y1+100)\n",
    "\n",
    "        maskout=innerrad\n",
    "        ax.add_patch(matplotlib.patches.Circle((circle.center.x,circle.center.y),\n",
    "                                               maskout,\n",
    "                                               lw=1,\n",
    "                                               ec='gray',\n",
    "                                               fc='gray',alpha=0.2))\n",
    "\n",
    "        xs_v = larocv.QPointOnCircleRefine(test_cv,circle,xs_v,maskout)\n",
    "        print xs_v.size()\n",
    "        for ix in xrange(xs_v.size()):\n",
    "            xs=xs_v[ix]\n",
    "            print xs.x,xs.y\n",
    "\n",
    "            ax.plot(xs.x,xs.y,'o',markersize=30,color='magenta',alpha=0.5)\n",
    "\n",
    "\n",
    "        ax.grid()\n",
    "        #plt.show()\n",
    "        plt.savefig(\"out_%04d.png\"%iz)\n",
    "        iz+=1\n",
    "        plt.clf()\n",
    "        plt.cla()\n",
    "        plt.close()"
   ]
  },
  {
   "cell_type": "code",
   "execution_count": null,
   "metadata": {
    "collapsed": false
   },
   "outputs": [],
   "source": []
  },
  {
   "cell_type": "code",
   "execution_count": null,
   "metadata": {
    "collapsed": false
   },
   "outputs": [],
   "source": []
  },
  {
   "cell_type": "code",
   "execution_count": null,
   "metadata": {
    "collapsed": false
   },
   "outputs": [],
   "source": []
  }
 ],
 "metadata": {
  "kernelspec": {
   "display_name": "Python 2",
   "language": "python",
   "name": "python2"
  },
  "language_info": {
   "codemirror_mode": {
    "name": "ipython",
    "version": 2
   },
   "file_extension": ".py",
   "mimetype": "text/x-python",
   "name": "python",
   "nbconvert_exporter": "python",
   "pygments_lexer": "ipython2",
   "version": "2.7.10"
  }
 },
 "nbformat": 4,
 "nbformat_minor": 0
}
