{
 "cells": [
  {
   "cell_type": "code",
   "execution_count": null,
   "metadata": {
    "collapsed": false
   },
   "outputs": [],
   "source": [
    "import ROOT\n",
    "from ROOT import larocv\n",
    "larocv.AlgoFunctionLoader()\n",
    "\n",
    "import matplotlib\n",
    "import matplotlib.pyplot as plt\n",
    "import numpy as np\n",
    "\n",
    "import cv2\n",
    "\n",
    "from ROOT import geo2d\n",
    "pydraw=geo2d.PyDraw()\n",
    "%matplotlib inline"
   ]
  },
  {
   "cell_type": "code",
   "execution_count": null,
   "metadata": {
    "collapsed": false
   },
   "outputs": [],
   "source": [
    "test_img=cv2.imread(\"test.png\",0)\n",
    "test_img[test_img>0]=1\n",
    "test_img[test_img==0]=255\n",
    "test_img[test_img==1]=0\n",
    "fig,ax=plt.subplots(figsize=(20,20))\n",
    "#plt.imshow(test_img,cmap='Greys',interpolation='none')\n",
    "x1=162\n",
    "y1=355\n",
    "x2=362\n",
    "y2=128\n",
    "ax.plot(x1,y1,'o',color='red')\n",
    "ax.plot(x2,y2,'o',color='blue')\n",
    "pt1=ROOT.cv.Point_(\"float\")(x1,y1)\n",
    "pt2=ROOT.cv.Point_(\"float\")(x2,y2)\n",
    "test_cv=pydraw.mat(test_img)\n",
    "path_exists=larocv.PathExists(test_cv,pt1,pt2,2)\n",
    "print \"Path exists\",path_exists\n",
    "ctor_v=larocv.FindContours(test_cv)\n",
    "mask_cv=larocv.MaskImage(test_cv,ctor_v.front(),0,False)\n",
    "mask_img=pydraw.image(mask_cv)\n",
    "ax.imshow(mask_img,cmap='Greys',interpolation='none')\n",
    "\n",
    "ax.grid()\n",
    "plt.show()"
   ]
  },
  {
   "cell_type": "code",
   "execution_count": null,
   "metadata": {
    "collapsed": false
   },
   "outputs": [],
   "source": []
  },
  {
   "cell_type": "code",
   "execution_count": null,
   "metadata": {
    "collapsed": false
   },
   "outputs": [],
   "source": []
  },
  {
   "cell_type": "code",
   "execution_count": null,
   "metadata": {
    "collapsed": false
   },
   "outputs": [],
   "source": []
  }
 ],
 "metadata": {
  "kernelspec": {
   "display_name": "Python 2",
   "language": "python",
   "name": "python2"
  },
  "language_info": {
   "codemirror_mode": {
    "name": "ipython",
    "version": 2
   },
   "file_extension": ".py",
   "mimetype": "text/x-python",
   "name": "python",
   "nbconvert_exporter": "python",
   "pygments_lexer": "ipython2",
   "version": "2.7.10"
  }
 },
 "nbformat": 4,
 "nbformat_minor": 0
}
