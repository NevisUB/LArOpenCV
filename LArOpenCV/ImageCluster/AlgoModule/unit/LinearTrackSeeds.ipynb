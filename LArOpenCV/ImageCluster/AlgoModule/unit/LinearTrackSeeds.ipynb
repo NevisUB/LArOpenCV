{
 "cells": [
  {
   "cell_type": "code",
   "execution_count": null,
   "metadata": {
    "collapsed": false
   },
   "outputs": [],
   "source": [
    "from larcv import larcv\n",
    "larcv.load_pyutil\n",
    "larcv.load_cvutil\n",
    "\n",
    "import cv2\n",
    "import ROOT\n",
    "from ROOT import fcllite\n",
    "from ROOT import geo2d\n",
    "from ROOT import larocv\n",
    "\n",
    "%matplotlib inline\n",
    "import matplotlib\n",
    "import matplotlib.pyplot as plt\n",
    "import numpy as np"
   ]
  },
  {
   "cell_type": "code",
   "execution_count": null,
   "metadata": {
    "collapsed": false
   },
   "outputs": [],
   "source": [
    "# make a fake image...\n",
    "a=np.zeros((485,485))\n",
    "\n",
    "ctor = ROOT.std.vector(ROOT.cv.Point_('int'))()\n",
    "\n",
    "ctor.clear()\n",
    "    \n",
    "pt_x=[]\n",
    "pt_y=[]\n",
    "\n",
    "ctor.push_back(ROOT.cv.Point_(\"int\")(25,225))\n",
    "ctor.push_back(ROOT.cv.Point_(\"int\")(50,225))\n",
    "ctor.push_back(ROOT.cv.Point_(\"int\")(50,229))\n",
    "ctor.push_back(ROOT.cv.Point_(\"int\")(29,229))\n",
    "\n",
    "ctor.push_back(ctor[0])\n",
    "for pt in ctor:\n",
    "    pt_x.append(pt.x)\n",
    "    pt_y.append(pt.y)\n",
    "    plt.plot(pt_x,pt_y,'o-',color='black',lw=1)\n",
    "\n",
    "ax=plt.gca()\n",
    "#ax.set_xlim(0,450)\n",
    "#ax.set_ylim(0,450)\n",
    "plt.grid()\n",
    "plt.show()\n",
    "\n",
    "# make a path representing this contour\n",
    "path_list1 = []\n",
    "for pt in ctor:\n",
    "    path_list1.append((pt.x,pt.y)) \n"
   ]
  },
  {
   "cell_type": "code",
   "execution_count": null,
   "metadata": {
    "collapsed": false
   },
   "outputs": [],
   "source": [
    "path1 = matplotlib.path.Path(path_list1)\n",
    "\n",
    "img1 = path1.contains_points(np.row_stack(np.where(a==0)).T).reshape(485,485).astype(np.uint8)\n",
    "\n",
    "img1=np.where(img1>0,img1+80,0)\n",
    "img2 = img1.copy()\n",
    "img3 = img1.copy()\n",
    "\n",
    "M = cv2.getRotationMatrix2D((485/2,485/2),20,1)\n",
    "\n",
    "#rotate 1\n",
    "img1 = cv2.warpAffine(img1,M,(485,485))\n",
    "\n",
    "#get nonzero for 1, and move it...\n",
    "nzero=np.row_stack(np.where(img1>0)).T\n",
    "img1[nzero[:,0],nzero[:,1]]=0\n",
    "img1[nzero[:,0]+20,nzero[:,1]+75]=80\n",
    "\n",
    "M = cv2.getRotationMatrix2D((485/2,485/2),45,1)\n",
    "#rotate 2\n",
    "img2 = cv2.warpAffine(img2,M,(485,485))\n",
    "\n",
    "#flip 2\n",
    "img2 = img2[:,::-1]\n",
    "\n",
    "#get nonzero for 2, and move it...\n",
    "nzero=np.row_stack(np.where(img2>0)).T\n",
    "img2[nzero[:,0],nzero[:,1]]=0\n",
    "img2[nzero[:,0]+20,nzero[:,1]-179]=80\n",
    "\n",
    "#rotate 3\n",
    "M = cv2.getRotationMatrix2D((485/2,485/2),45,1)\n",
    "img3 = cv2.warpAffine(img3,M,(485,485))\n",
    "\n",
    "#get nonzero for 3, and move it...\n",
    "nzero=np.row_stack(np.where(img3>0)).T\n",
    "img3[nzero[:,0],nzero[:,1]]=0\n",
    "img3[nzero[:,0]+100,nzero[:,1]+148]=80\n",
    "\n",
    "#add them...\n",
    "img = img1+img2+img3\n",
    "\n",
    "plt.imshow(img,cmap='Greys',interpolation='none')\n",
    "ax=plt.gca()\n",
    "ax.vlines(227,0,485,color='orange',lw=2,alpha=0.5)\n",
    "ax.text(50,50,\"Fake Image\",fontsize=20,fontweight='bold',color='red')\n",
    "fig=plt.gcf()\n",
    "fig.set_size_inches(20,12)\n",
    "\n",
    "plt.rc('grid', linestyle=\"-\", color='black')\n",
    "\n",
    "mjx = mjy = 10.;\n",
    "mix = miy = 1.\n",
    "\n",
    "major_ticks_x = np.arange(0,485+mjx/2,mjx)                                                                                                                                                                                    \n",
    "major_ticks_y = np.arange(0,485+mjy/2,mjy)                                                                                                                                                                                    \n",
    "minor_ticks_x = np.arange(0+mix/2,485+mix*1.5,1)                                                                                                                                                                            \n",
    "minor_ticks_y = np.arange(0+miy/2,485+miy*1.5,1)                                                                                                                                                                            \n",
    "\n",
    "ax.set_xticks(major_ticks_x)                                                                                                                                                                                            \n",
    "#ax.set_xticks(minor_ticks_x, minor=True)                                                                                                                                                                                \n",
    "ax.set_yticks(major_ticks_y)                                                                                                                                                                                            \n",
    "#ax.set_yticks(minor_ticks_y, minor=True)                                                                                                                                                                                \n",
    "ax.grid(which='minor')                                                                                                                                                                                                  \n",
    "ax.set_xticklabels(major_ticks_x.astype(np.uint16),rotation=45,fontsize=10,minor=False)                                                                                                                                                   \n",
    "ax.set_yticklabels(major_ticks_y.astype(np.uint16),rotation=45,fontsize=10,minor=False) \n",
    "\n",
    "plt.grid()\n",
    "plt.show()"
   ]
  },
  {
   "cell_type": "code",
   "execution_count": null,
   "metadata": {
    "collapsed": false
   },
   "outputs": [],
   "source": [
    "iom = larcv.IOManager(larcv.IOManager.kWRITE)\n",
    "iom.set_verbosity(0)\n",
    "iom.set_out_file(\"/tmp/aho.root\")\n",
    "iom.initialize()\n",
    "fake_evimg=iom.get_data(larcv.kProductImage2D,\"test\")\n",
    "\n",
    "img2d1 = larcv.as_image2d(img1)\n",
    "img2d2 = larcv.as_image2d(img2)\n",
    "img2d3 = larcv.as_image2d(img3)\n",
    "\n",
    "imeta1 = larcv.ImageMeta(485,2910.0,\n",
    "                   485,485,\n",
    "                   166.0,5424.0,\n",
    "                   0)\n",
    "\n",
    "imeta2 = larcv.ImageMeta(485,2910.0,\n",
    "                   485,485,\n",
    "                   621.0,5424.0,\n",
    "                   1)\n",
    "\n",
    "imeta3 = larcv.ImageMeta(485,2910.0,\n",
    "                   485,485,\n",
    "                   343.,5424.0,\n",
    "                   2)\n",
    "\n",
    "img2d1 = larcv.Image2D(imeta1,img2d1.as_vector())\n",
    "img2d2 = larcv.Image2D(imeta2,img2d2.as_vector())\n",
    "img2d3 = larcv.Image2D(imeta3,img2d3.as_vector())\n",
    "\n",
    "\n",
    "fake_evimg.Append(img2d1)\n",
    "fake_evimg.Append(img2d2)\n",
    "fake_evimg.Append(img2d3)\n",
    "\n",
    "iom.set_id(0,0,1)\n",
    "iom.save_entry()\n",
    "iom.finalize()"
   ]
  },
  {
   "cell_type": "code",
   "execution_count": null,
   "metadata": {
    "collapsed": false
   },
   "outputs": [],
   "source": [
    "proc = larcv.ProcessDriver(\"ProcessDriver\")\n",
    "proc.configure(\"linear_track_cluster_unit.fcl\")\n",
    "f=ROOT.std.string(\"/tmp/aho.root\")\n",
    "flist=ROOT.std.vector('string')()\n",
    "flist.push_back(f)\n",
    "proc.override_input_file(flist)\n",
    "proc.initialize()\n",
    "larbysimg = proc.process_ptr(0)"
   ]
  },
  {
   "cell_type": "code",
   "execution_count": null,
   "metadata": {
    "collapsed": false
   },
   "outputs": [],
   "source": [
    "proc.batch_process(0,1)"
   ]
  },
  {
   "cell_type": "code",
   "execution_count": null,
   "metadata": {
    "collapsed": true
   },
   "outputs": [],
   "source": [
    "mgr=larbysimg.Manager()\n",
    "img_v = []\n",
    "pygeo = geo2d.PyDraw()"
   ]
  },
  {
   "cell_type": "code",
   "execution_count": null,
   "metadata": {
    "collapsed": true
   },
   "outputs": [],
   "source": [
    "for mat in mgr.InputImages():\n",
    "    img_v.append(pygeo.image(mat))"
   ]
  },
  {
   "cell_type": "code",
   "execution_count": null,
   "metadata": {
    "collapsed": false,
    "scrolled": false
   },
   "outputs": [],
   "source": [
    "plane=0\n",
    "for mat in mgr.InputImages():\n",
    "    img_v.append(pygeo.image(mat))\n",
    "    shape_img=np.where(img_v[plane]>0.0,1.0,0.0).astype(np.uint8)\n",
    "    fig,ax=plt.subplots(figsize=(12,12),facecolor='w')\n",
    "    plt.imshow(shape_img,cmap='Greys',interpolation='none')\n",
    "    plt.xlabel('Time [6 ticks]',fontsize=20)\n",
    "    plt.ylabel('Wire [2 wires]',fontsize=20)\n",
    "    plt.tick_params(labelsize=20)\n",
    "    ax.set_aspect(0.8)\n",
    "    plt.tight_layout()\n",
    "    plt.show()\n",
    "    plane+=1"
   ]
  },
  {
   "cell_type": "code",
   "execution_count": null,
   "metadata": {
    "collapsed": false,
    "scrolled": false
   },
   "outputs": [],
   "source": [
    "colors=['red','green','blue','orange','magenta','cyan','pink']\n",
    "colors*=10\n",
    "\n",
    "dm=mgr.DataManager()\n",
    "data=dm.Data(0)\n",
    "lintrk_v=data.get_clusters()\n",
    "\n",
    "for strack in lintrk_v:\n",
    "    \n",
    "    # the only good one...\n",
    "    \n",
    "    e13d=strack.edge1\n",
    "    for plane in xrange(3):\n",
    "        strack2d = strack.get_cluster(plane)\n",
    "        fig,ax=plt.subplots(figsize=(12,12),facecolor='w')\n",
    "        shape_img = img_v[plane]\n",
    "        shape_img=np.where(img_v[plane]>0.0,1.0,0.0).astype(np.uint8)\n",
    "        plt.imshow(shape_img,cmap='Greys',interpolation='none')\n",
    "        nz_pixels=np.where(shape_img>0.0)\n",
    "\n",
    "        if strack2d.ctor.size()>0:\n",
    "            ctor = [[pt.x,pt.y] for pt in strack2d.ctor]\n",
    "            ctor.append(ctor[0])\n",
    "            ctor=np.array(ctor)\n",
    "\n",
    "            plt.plot(ctor[:,0],ctor[:,1],'-o',lw=3)\n",
    "\n",
    "            e1=strack2d.edge1\n",
    "            e2=strack2d.edge2\n",
    "            \n",
    "            plt.plot(e1.x,e1.y,'*',color='orange',markersize=20)\n",
    "            plt.plot(e2.x,e2.y,'*',color='yellow',markersize=20)\n",
    "        \n",
    "            vtx2d=e13d.vtx2d_v[plane]\n",
    "            pt=vtx2d.pt\n",
    "            plt.plot(pt.x,pt.y,'o',color='green',markersize=40,alpha=0.7)\n",
    "        \n",
    "        ax.set_aspect(1.0)\n",
    "        ax.set_ylim(np.min(nz_pixels[0])-10,np.max(nz_pixels[0])+10)\n",
    "        ax.set_xlim(np.min(nz_pixels[1])-10,np.max(nz_pixels[1])+10)\n",
    "        plt.xlabel('Time [6 ticks]',fontsize=20)\n",
    "        plt.ylabel('Wire [2 wires]',fontsize=20)\n",
    "        plt.tick_params(labelsize=20)\n",
    "        ax.set_aspect(0.8)\n",
    "        plt.show()"
   ]
  }
 ],
 "metadata": {
  "kernelspec": {
   "display_name": "Python 2",
   "language": "python",
   "name": "python2"
  },
  "language_info": {
   "codemirror_mode": {
    "name": "ipython",
    "version": 2
   },
   "file_extension": ".py",
   "mimetype": "text/x-python",
   "name": "python",
   "nbconvert_exporter": "python",
   "pygments_lexer": "ipython2",
   "version": "2.7.10"
  }
 },
 "nbformat": 4,
 "nbformat_minor": 0
}
