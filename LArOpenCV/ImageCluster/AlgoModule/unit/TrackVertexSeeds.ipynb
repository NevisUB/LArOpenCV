{
 "cells": [
  {
   "cell_type": "code",
   "execution_count": 1,
   "metadata": {
    "collapsed": true
   },
   "outputs": [],
   "source": [
    "from larcv import larcv\n",
    "larcv.load_pyutil\n",
    "larcv.load_cvutil\n",
    "\n",
    "import cv2\n",
    "import ROOT\n",
    "from ROOT import fcllite\n",
    "from ROOT import geo2d\n",
    "from ROOT import larocv\n",
    "\n",
    "%matplotlib inline\n",
    "import matplotlib\n",
    "import matplotlib.pyplot as plt\n",
    "import numpy as np"
   ]
  },
  {
   "cell_type": "code",
   "execution_count": 2,
   "metadata": {
    "collapsed": false
   },
   "outputs": [
    {
     "data": {
      "image/png": "[encoded data removed]",
      "text/plain": [
       "<matplotlib.figure.Figure at 0x12c65cfd0>"
      ]
     },
     "metadata": {},
     "output_type": "display_data"
    }
   ],
   "source": [
    "\n",
    "# make a fake image...\n",
    "a=np.zeros((450,450))\n",
    "\n",
    "ctor = ROOT.std.vector(ROOT.cv.Point_('int'))()\n",
    "\n",
    "# make some lines\n",
    "line1 = geo2d.Line(\"float\")(50,50,-45)\n",
    "line2 = geo2d.Line(\"float\")(50,50,45)\n",
    "\n",
    "ctor.clear()\n",
    "    \n",
    "pt_x=[]\n",
    "pt_y=[]\n",
    "#ctor.push_back(ROOT.cv.Point_(\"int\")(20,100))\n",
    "#ctor.push_back(ROOT.cv.Point_(\"int\")(30,140))\n",
    "ctor.push_back(ROOT.cv.Point_(\"int\")(50,170))\n",
    "ctor.push_back(ROOT.cv.Point_(\"int\")(55,180))\n",
    "ctor.push_back(ROOT.cv.Point_(\"int\")(60,200))\n",
    "ctor.push_back(ROOT.cv.Point_(\"int\")(75,200))\n",
    "ctor.push_back(ROOT.cv.Point_(\"int\")(76,150))\n",
    "ctor.push_back(ROOT.cv.Point_(\"int\")(77,100))\n",
    "ctor.push_back(ROOT.cv.Point_(\"int\")(100,96))\n",
    "ctor.push_back(ROOT.cv.Point_(\"int\")(150,94))\n",
    "ctor.push_back(ROOT.cv.Point_(\"int\")(200,93))\n",
    "ctor.push_back(ROOT.cv.Point_(\"int\")(220,81))\n",
    "ctor.push_back(ROOT.cv.Point_(\"int\")(200,82))\n",
    "ctor.push_back(ROOT.cv.Point_(\"int\")(190,82))\n",
    "ctor.push_back(ROOT.cv.Point_(\"int\")(170,83))\n",
    "ctor.push_back(ROOT.cv.Point_(\"int\")(130,84))\n",
    "ctor.push_back(ROOT.cv.Point_(\"int\")(100,85))\n",
    "ctor.push_back(ROOT.cv.Point_(\"int\")(75,86))\n",
    "ctor.push_back(ROOT.cv.Point_(\"int\")(50,87))\n",
    "\n",
    "ctor.push_back(ctor[0])\n",
    "for pt in ctor:\n",
    "    pt_x.append(pt.x)\n",
    "    pt_y.append(pt.y)\n",
    "    plt.plot(pt_x,pt_y,'o-',color='black',lw=1)\n",
    "\n",
    "plt.grid()\n",
    "plt.show()\n",
    "\n",
    "# make a path representing this contour\n",
    "path_list1 = []\n",
    "path_list2 = []\n",
    "path_list3 = []\n",
    "for pt in ctor:\n",
    "    path_list1.append((pt.x,pt.y)) \n",
    "    path_list2.append((pt.x,pt.y+100))\n",
    "    path_list3.append((pt.x+100,pt.y))"
   ]
  },
  {
   "cell_type": "code",
   "execution_count": 3,
   "metadata": {
    "collapsed": false
   },
   "outputs": [
    {
     "data": {
      "image/png": "[encoded data removed]",
      "text/plain": [
       "<matplotlib.figure.Figure at 0x12c2d3910>"
      ]
     },
     "metadata": {},
     "output_type": "display_data"
    }
   ],
   "source": [
    "path1 = matplotlib.path.Path(path_list1)\n",
    "path2 = matplotlib.path.Path(path_list2)\n",
    "path3 = matplotlib.path.Path(path_list3)\n",
    "\n",
    "img1 = path1.contains_points(np.row_stack(np.where(a==0)).T).reshape(450,450).astype(np.uint8)\n",
    "img2 = path2.contains_points(np.row_stack(np.where(a==0)).T).reshape(450,450).astype(np.uint8)\n",
    "img3 = path3.contains_points(np.row_stack(np.where(a==0)).T).reshape(450,450).astype(np.uint8)\n",
    "\n",
    "#set img1 values to be 20\n",
    "img1=np.where(img1>0,img1+40,0)\n",
    "#set img1 values to be 40\n",
    "img2=np.where(img2>0,img2+60,0)\n",
    "#set img2 values to be 60\n",
    "img3=np.where(img3>0,img3+80,0)\n",
    "\n",
    "#rotate 3\n",
    "M = cv2.getRotationMatrix2D((450/2,450/2),45,1)\n",
    "img3 = cv2.warpAffine(img3,M,(450,450))\n",
    "\n",
    "#add them...\n",
    "img = img1+img2+img3\n",
    "\n",
    "plt.imshow(img,cmap='Greys',interpolation='none')\n",
    "fig=plt.gcf()\n",
    "fig.set_size_inches(10,6)\n",
    "plt.show()"
   ]
  },
  {
   "cell_type": "code",
   "execution_count": 4,
   "metadata": {
    "collapsed": false
   },
   "outputs": [],
   "source": [
    "iom = larcv.IOManager(larcv.IOManager.kWRITE)\n",
    "iom.set_verbosity(0)\n",
    "iom.set_out_file(\"/tmp/aho.root\")\n",
    "iom.initialize()\n",
    "fake_evimg=iom.get_data(larcv.kProductImage2D,\"test\")\n",
    "fake_evimg.Append(larcv.as_image2d(img))\n",
    "iom.set_id(0,0,1)\n",
    "iom.save_entry()\n",
    "iom.finalize()"
   ]
  },
  {
   "cell_type": "code",
   "execution_count": 5,
   "metadata": {
    "collapsed": false
   },
   "outputs": [
    {
     "ename": "TypeError",
     "evalue": "none of the 2 overloaded methods succeeded. Full details:\n  void larcv::ProcessDriver::configure(const string config_file) =>\n    problem in C++; program state has been reset\n  void larcv::ProcessDriver::configure(const larcv::PSet& cfg) =>\n    could not convert argument 1",
     "output_type": "error",
     "traceback": [
      "\u001b[0;31m---------------------------------------------------------------------------\u001b[0m",
      "\u001b[0;31mTypeError\u001b[0m                                 Traceback (most recent call last)",
      "\u001b[0;32m<ipython-input-5-901b27bb0d83>\u001b[0m in \u001b[0;36m<module>\u001b[0;34m()\u001b[0m\n\u001b[1;32m      1\u001b[0m \u001b[0mproc\u001b[0m \u001b[0;34m=\u001b[0m \u001b[0mlarcv\u001b[0m\u001b[0;34m.\u001b[0m\u001b[0mProcessDriver\u001b[0m\u001b[0;34m(\u001b[0m\u001b[0;34m\"ProcessDriver\"\u001b[0m\u001b[0;34m)\u001b[0m\u001b[0;34m\u001b[0m\u001b[0m\n\u001b[0;32m----> 2\u001b[0;31m \u001b[0mproc\u001b[0m\u001b[0;34m.\u001b[0m\u001b[0mconfigure\u001b[0m\u001b[0;34m(\u001b[0m\u001b[0;34m'vertex_seeds_unit.fcl'\u001b[0m\u001b[0;34m)\u001b[0m\u001b[0;34m\u001b[0m\u001b[0m\n\u001b[0m\u001b[1;32m      3\u001b[0m \u001b[0mf\u001b[0m\u001b[0;34m=\u001b[0m\u001b[0mROOT\u001b[0m\u001b[0;34m.\u001b[0m\u001b[0mstd\u001b[0m\u001b[0;34m.\u001b[0m\u001b[0mstring\u001b[0m\u001b[0;34m(\u001b[0m\u001b[0;34m\"/tmp/aho.root\"\u001b[0m\u001b[0;34m)\u001b[0m\u001b[0;34m\u001b[0m\u001b[0m\n\u001b[1;32m      4\u001b[0m \u001b[0mflist\u001b[0m\u001b[0;34m=\u001b[0m\u001b[0mROOT\u001b[0m\u001b[0;34m.\u001b[0m\u001b[0mstd\u001b[0m\u001b[0;34m.\u001b[0m\u001b[0mvector\u001b[0m\u001b[0;34m(\u001b[0m\u001b[0;34m'string'\u001b[0m\u001b[0;34m)\u001b[0m\u001b[0;34m(\u001b[0m\u001b[0;34m)\u001b[0m\u001b[0;34m\u001b[0m\u001b[0m\n\u001b[1;32m      5\u001b[0m \u001b[0mflist\u001b[0m\u001b[0;34m.\u001b[0m\u001b[0mpush_back\u001b[0m\u001b[0;34m(\u001b[0m\u001b[0mf\u001b[0m\u001b[0;34m)\u001b[0m\u001b[0;34m\u001b[0m\u001b[0m\n",
      "\u001b[0;31mTypeError\u001b[0m: none of the 2 overloaded methods succeeded. Full details:\n  void larcv::ProcessDriver::configure(const string config_file) =>\n    problem in C++; program state has been reset\n  void larcv::ProcessDriver::configure(const larcv::PSet& cfg) =>\n    could not convert argument 1"
     ]
    }
   ],
   "source": [
    "proc = larcv.ProcessDriver(\"ProcessDriver\")\n",
    "proc.configure('vertex_seeds_unit.fcl')\n",
    "f=ROOT.std.string(\"/tmp/aho.root\")\n",
    "flist=ROOT.std.vector('string')()\n",
    "flist.push_back(f)\n",
    "proc.override_input_file(flist)\n",
    "proc.initialize()\n",
    "larbysimg = proc.process_ptr(0)"
   ]
  },
  {
   "cell_type": "code",
   "execution_count": null,
   "metadata": {
    "collapsed": false
   },
   "outputs": [],
   "source": [
    "proc.batch_process(0,1)"
   ]
  },
  {
   "cell_type": "code",
   "execution_count": null,
   "metadata": {
    "collapsed": true
   },
   "outputs": [],
   "source": [
    "mgr=larbysimg.Manager()\n",
    "img_v = []\n",
    "pygeo   = geo2d.PyDraw()"
   ]
  },
  {
   "cell_type": "code",
   "execution_count": null,
   "metadata": {
    "collapsed": false
   },
   "outputs": [],
   "source": [
    "plane=0\n",
    "for mat in mgr.InputImages():\n",
    "    img_v.append(pygeo.image(mat))\n",
    "    shape_img=np.where(img_v[plane]>0.0,1.0,0.0).astype(np.uint8)\n",
    "    fig,ax=plt.subplots(figsize=(12,12),facecolor='w')\n",
    "    plt.imshow(shape_img,cmap='Greys',interpolation='none')\n",
    "    plt.xlabel('Time [6 ticks]',fontsize=20)\n",
    "    plt.ylabel('Wire [2 wires]',fontsize=20)\n",
    "    plt.tick_params(labelsize=20)\n",
    "    ax.set_aspect(0.8)\n",
    "    plt.tight_layout()\n",
    "    plt.show()\n",
    "    plane+=1"
   ]
  },
  {
   "cell_type": "code",
   "execution_count": null,
   "metadata": {
    "collapsed": false
   },
   "outputs": [],
   "source": [
    "colors=['red','green','blue','orange','magenta','cyan','pink']\n",
    "colors*=10\n",
    "plane=0\n",
    "print 'Plane',plane\n",
    "fig,ax=plt.subplots(figsize=(12,12),facecolor='w')\n",
    "\n",
    "shape_img = img_v[plane]\n",
    "shape_img=np.where(img_v[plane]>0.0,1.0,0.0).astype(np.uint8)\n",
    "plt.imshow(shape_img,cmap='Greys',interpolation='none')\n",
    "nz_pixels=np.where(shape_img>0.0)\n",
    "\n",
    "dm=mgr.DataManager()\n",
    "data=dm.Data(0)\n",
    "\n",
    "ix=0\n",
    "\n",
    "vertex_seeds = data.harvest_seeds(0)\n",
    "cluscomp_v = vertex_seeds.get_compounds()\n",
    "\n",
    "#plot the atomics\n",
    "for cluscomp_id in xrange(cluscomp_v.size()):\n",
    "    cluscomp = cluscomp_v[cluscomp_id]\n",
    "    for atomic_id in xrange(cluscomp.size()):\n",
    "        atomic = cluscomp[atomic_id]\n",
    "        pts=[[atomic[p_id].x,atomic[p_id].y] for p_id in xrange(atomic.size())]\n",
    "        pts.append(pts[0])\n",
    "        pts=np.array(pts)\n",
    "        plt.plot(pts[:,0],pts[:,1],'-o',lw=5,color=colors[ix])\n",
    "        ix+=1\n",
    "\n",
    "\n",
    "points = data.harvest_seed_points(0)\n",
    "pts_v = np.array([[points[i].x,points[i].y] for i in xrange(points.size())])\n",
    "\n",
    "plt.plot(pts_v[:,0],pts_v[:,1],'*',markersize=30,color='yellow')\n",
    "        \n",
    "ax.set_aspect(1.0)\n",
    "plt.tight_layout()\n",
    "ax.set_ylim(np.min(nz_pixels[0])-10,np.max(nz_pixels[0])+10)\n",
    "ax.set_xlim(np.min(nz_pixels[1])-10,np.max(nz_pixels[1])+10)\n",
    "plt.xlabel('Time [6 ticks]',fontsize=20)\n",
    "plt.ylabel('Wire [2 wires]',fontsize=20)\n",
    "plt.tick_params(labelsize=20)\n",
    "ax.set_aspect(0.8)\n",
    "ax.text(150,300,\"Yellow == Defect Seed\\nOrange == PCA Seed\",fontsize=30,fontweight='bold')\n",
    "plt.show()"
   ]
  },
  {
   "cell_type": "code",
   "execution_count": null,
   "metadata": {
    "collapsed": true
   },
   "outputs": [],
   "source": []
  }
 ],
 "metadata": {
  "kernelspec": {
   "display_name": "Python 2",
   "language": "python",
   "name": "python2"
  },
  "language_info": {
   "codemirror_mode": {
    "name": "ipython",
    "version": 2
   },
   "file_extension": ".py",
   "mimetype": "text/x-python",
   "name": "python",
   "nbconvert_exporter": "python",
   "pygments_lexer": "ipython2",
   "version": "2.7.10"
  }
 },
 "nbformat": 4,
 "nbformat_minor": 0
}
