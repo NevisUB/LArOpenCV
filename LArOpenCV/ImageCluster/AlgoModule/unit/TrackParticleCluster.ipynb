{
 "cells": [
  {
   "cell_type": "code",
   "execution_count": null,
   "metadata": {
    "collapsed": false
   },
   "outputs": [],
   "source": [
    "from larcv import larcv\n",
    "larcv.load_pyutil\n",
    "larcv.load_cvutil\n",
    "\n",
    "import cv2\n",
    "import ROOT\n",
    "from ROOT import fcllite\n",
    "from ROOT import geo2d\n",
    "from ROOT import larocv\n",
    "\n",
    "%matplotlib inline\n",
    "import matplotlib\n",
    "import matplotlib.pyplot as plt\n",
    "import numpy as np"
   ]
  },
  {
   "cell_type": "code",
   "execution_count": null,
   "metadata": {
    "collapsed": false
   },
   "outputs": [],
   "source": [
    "# make a fake image...\n",
    "a=np.zeros((485,485))\n",
    "\n",
    "ctor = ROOT.std.vector(ROOT.cv.Point_('int'))()\n",
    "\n",
    "ctor.clear()\n",
    "    \n",
    "pt_x=[]\n",
    "pt_y=[]\n",
    "\n",
    "ctor.push_back(ROOT.cv.Point_(\"int\")(25,225))\n",
    "ctor.push_back(ROOT.cv.Point_(\"int\")(50,225))\n",
    "ctor.push_back(ROOT.cv.Point_(\"int\")(50,229))\n",
    "ctor.push_back(ROOT.cv.Point_(\"int\")(29,229))\n",
    "ctor.push_back(ROOT.cv.Point_(\"int\")(29,300))\n",
    "ctor.push_back(ROOT.cv.Point_(\"int\")(62,320))\n",
    "ctor.push_back(ROOT.cv.Point_(\"int\")(60,320))\n",
    "ctor.push_back(ROOT.cv.Point_(\"int\")(27,300))\n",
    "\n",
    "ctor.push_back(ctor[0])\n",
    "for pt in ctor:\n",
    "    pt_x.append(pt.x)\n",
    "    pt_y.append(pt.y)\n",
    "    plt.plot(pt_x,pt_y,'o-',color='black',lw=1)\n",
    "\n",
    "ax=plt.gca()\n",
    "#ax.set_xlim(0,450)\n",
    "#ax.set_ylim(0,450)\n",
    "plt.grid()\n",
    "plt.show()\n",
    "\n",
    "# make a path representing this contour\n",
    "path_list1 = []\n",
    "for pt in ctor:\n",
    "    path_list1.append((pt.x,pt.y)) \n"
   ]
  },
  {
   "cell_type": "code",
   "execution_count": null,
   "metadata": {
    "collapsed": false
   },
   "outputs": [],
   "source": [
    "path1 = matplotlib.path.Path(path_list1)\n",
    "\n",
    "img1 = path1.contains_points(np.row_stack(np.where(a==0)).T).reshape(485,485).astype(np.uint8)\n",
    "\n",
    "img1=np.where(img1>0,img1+80,0)\n",
    "img2 = img1.copy()\n",
    "img3 = img1.copy()\n",
    "M = cv2.getRotationMatrix2D((485/2,485/2),45,1)\n",
    "\n",
    "#rotate 2\n",
    "img2 = cv2.warpAffine(img2,M,(485,485))\n",
    "\n",
    "#flip 2\n",
    "img2 = img2[:,::-1]\n",
    "\n",
    "#get nonzero for 2, and move it...\n",
    "nzero=np.row_stack(np.where(img2>0)).T\n",
    "img2[nzero[:,0],nzero[:,1]]=0\n",
    "img2[nzero[:,0]+20,nzero[:,1]-174]=80\n",
    "\n",
    "#rotate 3\n",
    "M = cv2.getRotationMatrix2D((485/2,485/2),45,1)\n",
    "img3 = cv2.warpAffine(img3,M,(485,485))\n",
    "\n",
    "#get nonzero for 3, and move it...\n",
    "nzero=np.row_stack(np.where(img3>0)).T\n",
    "img3[nzero[:,0],nzero[:,1]]=0\n",
    "img3[nzero[:,0]+100,nzero[:,1]+145]=80\n",
    "\n",
    "#add them...\n",
    "img = img1+img2+img3\n",
    "\n",
    "plt.imshow(img,cmap='Greys',interpolation='none')\n",
    "ax=plt.gca()\n",
    "ax.vlines(227,0,450,color='grey',lw=4,alpha=0.5)\n",
    "ax.hlines(28.4845,0,485,color='orange',alpha=0.8,lw=2)\n",
    "ax.vlines(485-256,0,485,color='orange',alpha=0.8,lw=2)\n",
    "ax.text(50,50,\"Fake Image\",fontsize=20)\n",
    "fig=plt.gcf()\n",
    "fig.set_size_inches(20,12)\n",
    "plt.grid()\n",
    "plt.show()"
   ]
  },
  {
   "cell_type": "code",
   "execution_count": null,
   "metadata": {
    "collapsed": false
   },
   "outputs": [],
   "source": [
    "iom = larcv.IOManager(larcv.IOManager.kWRITE)\n",
    "iom.set_verbosity(0)\n",
    "iom.set_out_file(\"/tmp/aho.root\")\n",
    "iom.initialize()\n",
    "fake_evimg=iom.get_data(larcv.kProductImage2D,\"test\")\n",
    "\n",
    "img2d1 = larcv.as_image2d(img1)\n",
    "img2d2 = larcv.as_image2d(img2)\n",
    "img2d3 = larcv.as_image2d(img3)\n",
    "\n",
    "imeta1 = larcv.ImageMeta(485,2910.0,\n",
    "                   485,485,\n",
    "                   166.0,5424.0,\n",
    "                   0)\n",
    "\n",
    "imeta2 = larcv.ImageMeta(485,2910.0,\n",
    "                   485,485,\n",
    "                   621.0,5424.0,\n",
    "                   1)\n",
    "\n",
    "imeta3 = larcv.ImageMeta(485,2910.0,\n",
    "                   485,485,\n",
    "                   343.,5424.0,\n",
    "                   2)\n",
    "\n",
    "img2d1 = larcv.Image2D(imeta1,img2d1.as_vector())\n",
    "img2d2 = larcv.Image2D(imeta2,img2d2.as_vector())\n",
    "img2d3 = larcv.Image2D(imeta3,img2d3.as_vector())\n",
    "\n",
    "\n",
    "fake_evimg.Append(img2d1)\n",
    "fake_evimg.Append(img2d2)\n",
    "fake_evimg.Append(img2d3)\n",
    "\n",
    "iom.set_id(0,0,1)\n",
    "iom.save_entry()\n",
    "iom.finalize()"
   ]
  },
  {
   "cell_type": "code",
   "execution_count": null,
   "metadata": {
    "collapsed": false
   },
   "outputs": [],
   "source": [
    "proc = larcv.ProcessDriver(\"ProcessDriver\")\n",
    "proc.configure(\"track_particle_cluster.fcl\")\n",
    "f=ROOT.std.string(\"/tmp/aho.root\")\n",
    "flist=ROOT.std.vector('string')()\n",
    "flist.push_back(f)\n",
    "proc.override_input_file(flist)\n",
    "proc.initialize()\n",
    "larbysimg = proc.process_ptr(0)"
   ]
  },
  {
   "cell_type": "code",
   "execution_count": null,
   "metadata": {
    "collapsed": false
   },
   "outputs": [],
   "source": [
    "proc.batch_process(0,1)"
   ]
  },
  {
   "cell_type": "code",
   "execution_count": null,
   "metadata": {
    "collapsed": true
   },
   "outputs": [],
   "source": [
    "mgr=larbysimg.Manager()\n",
    "img_v = []\n",
    "pygeo = geo2d.PyDraw()"
   ]
  },
  {
   "cell_type": "code",
   "execution_count": null,
   "metadata": {
    "collapsed": true
   },
   "outputs": [],
   "source": [
    "for mat in mgr.InputImages():\n",
    "    img_v.append(pygeo.image(mat))"
   ]
  },
  {
   "cell_type": "code",
   "execution_count": null,
   "metadata": {
    "collapsed": false,
    "scrolled": false
   },
   "outputs": [],
   "source": [
    "import matplotlib.patches as patches\n",
    "\n",
    "for plane in xrange(3):\n",
    "    fig,ax=plt.subplots(figsize=(12,12),facecolor='w')\n",
    "    shape_img=np.where(img_v[plane]>10.0,1.0,0.0).astype(np.uint8)\n",
    "    plt.imshow(shape_img,cmap='Greys',interpolation='none')\n",
    "    nz_pixels=np.where(shape_img>0.0)\n",
    "\n",
    "    alg = mgr.GetClusterAlg(2).Algo()\n",
    "    \n",
    "    cv=larbysimg.Manager().GetClusterAlg(1)\n",
    "    mgr=larbysimg.Manager()\n",
    "    dm=mgr.DataManager()\n",
    "    \n",
    "    #Getting seeds\n",
    "    seeds_data0=dm.Data(1,plane)\n",
    "    seeds_data1=dm.Data(1,plane+3)\n",
    "    for compound in seeds_data1.as_vector():\n",
    "        for defect in compound.get_defects():\n",
    "            pt = defect._pt_defect\n",
    "            plt.plot([pt.x],[pt.y],marker='o',color='blue',markersize=10)\n",
    "    for pt in seeds_data0.as_vector():\n",
    "        plt.plot([pt.x],[pt.y],marker='o',color='red',markersize=10)\n",
    "            \n",
    "    ref_data   = dm.Data(2,0).as_vector()\n",
    "    plane_scan = alg.PlaneInfo(plane)\n",
    "\n",
    "    for circle in plane_scan._circle_scan_v:\n",
    "        c=patches.Circle((circle.center.x,circle.center.y),circle.radius,ec='cyan',alpha=0.05,fc='none',lw=10)\n",
    "        ax.add_patch(c)\n",
    "\n",
    "    minimum_v = alg.TimeBinnedScoreMinIndex()\n",
    "    for idx in xrange(minimum_v.size()):\n",
    "        xval = minimum_v[idx] + alg.TimeBinMin()\n",
    "        plt.plot([xval,xval],[0,2000],marker='',linestyle='--',color='magenta',linewidth=2)\n",
    "\n",
    "    for vtx3d in ref_data:\n",
    "        print \"See \",vtx3d.ID(),\" vtxID\"\n",
    "        vtx = vtx3d.cvtx2d_v[plane]\n",
    "        color='magenta'\n",
    "        if vtx3d.type == 1:\n",
    "            color='yellow'\n",
    "        plt.plot([vtx.center.x],[vtx.center.y],marker='$\\star$',color=color,markersize=24)\n",
    "\n",
    "    ymin,ymax = (np.min(nz_pixels[0])-10,np.max(nz_pixels[0])+10)\n",
    "    xmin,xmax = (np.min(nz_pixels[1])-10,np.max(nz_pixels[1])+10)\n",
    "\n",
    "    ax.set_ylim(ymin,ymax)\n",
    "    ax.set_xlim(xmin,xmax)\n",
    "    plt.xlabel('Time [6 ticks]',fontsize=20)\n",
    "    plt.ylabel('Wire [2 wires]',fontsize=20)\n",
    "    plt.tick_params(labelsize=20)\n",
    "    ax.set_aspect(0.8)\n",
    "    plt.tight_layout()\n",
    "    ax=plt.gca()\n",
    "    plt.show()\n",
    "    \n"
   ]
  },
  {
   "cell_type": "code",
   "execution_count": null,
   "metadata": {
    "collapsed": true
   },
   "outputs": [],
   "source": [
    "assman=dm.AssManager()"
   ]
  },
  {
   "cell_type": "code",
   "execution_count": null,
   "metadata": {
    "collapsed": false,
    "scrolled": false
   },
   "outputs": [],
   "source": [
    "#New VertexCluster\n",
    "vtx_data=dm.Data(2,0).as_vector()\n",
    "dm\n",
    "#Simply a list of VertexCluster (i.e. vertex-wise list of clusters)\n",
    "print \"There are \",vtx_data.size(),\"vertex found in this event. Note that this is vertex-wise\"\n",
    "print\n",
    "\n",
    "for vtx in vtx_data:\n",
    "    for plane in xrange(3):\n",
    "        fig,ax = plt.subplots(figsize=(12,12),facecolor='w')\n",
    "        shape_img = img_v[plane]\n",
    "        shape_img=np.where(img_v[plane]>10.0,1.0,0.0).astype(np.uint8)\n",
    "        plt.imshow(shape_img,cmap='Greys',interpolation='none')\n",
    "        nz_pixels=np.where(shape_img>0.0)\n",
    "        \n",
    "        par_data=dm.Data(3,plane)\n",
    "        \n",
    "        ass_t = np.array(assman.GetManyAss(vtx,par_data.ID()))\n",
    "        if ass_t.size==0:continue\n",
    "            \n",
    "        par_data_v=par_data.as_vector()\n",
    "        for id_ in ass_t:\n",
    "            ctor=np.array([[pt.x,pt.y] for pt in par_data_v[id_]._ctor])\n",
    "            plt.plot(ctor[:,0],ctor[:,1],'-o',lw=2)\n",
    "        \n",
    "\n",
    "        \n",
    "        plt.show()\n"
   ]
  }
 ],
 "metadata": {
  "kernelspec": {
   "display_name": "Python 2",
   "language": "python",
   "name": "python2"
  },
  "language_info": {
   "codemirror_mode": {
    "name": "ipython",
    "version": 2
   },
   "file_extension": ".py",
   "mimetype": "text/x-python",
   "name": "python",
   "nbconvert_exporter": "python",
   "pygments_lexer": "ipython2",
   "version": "2.7.10"
  }
 },
 "nbformat": 4,
 "nbformat_minor": 0
}
