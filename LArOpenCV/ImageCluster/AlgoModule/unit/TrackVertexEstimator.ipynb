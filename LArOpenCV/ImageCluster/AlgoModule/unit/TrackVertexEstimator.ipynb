{
 "cells": [
  {
   "cell_type": "code",
   "execution_count": null,
   "metadata": {
    "collapsed": true
   },
   "outputs": [],
   "source": [
    "from larcv import larcv\n",
    "larcv.load_pyutil\n",
    "larcv.load_cvutil\n",
    "\n",
    "import cv2\n",
    "import ROOT\n",
    "from ROOT import fcllite\n",
    "from ROOT import geo2d\n",
    "from ROOT import larocv\n",
    "\n",
    "%matplotlib inline\n",
    "import matplotlib\n",
    "import matplotlib.pyplot as plt\n",
    "import numpy as np"
   ]
  },
  {
   "cell_type": "code",
   "execution_count": null,
   "metadata": {
    "collapsed": false
   },
   "outputs": [],
   "source": [
    "# make a fake image...\n",
    "a=np.zeros((450,450))\n",
    "\n",
    "ctor = ROOT.std.vector(ROOT.cv.Point_('int'))()\n",
    "\n",
    "# make some lines\n",
    "line1 = geo2d.Line(\"float\")(50,50,-45)\n",
    "line2 = geo2d.Line(\"float\")(50,50,45)\n",
    "\n",
    "ctor.clear()\n",
    "    \n",
    "pt_x=[]\n",
    "pt_y=[]\n",
    "\n",
    "ctor.push_back(ROOT.cv.Point_(\"int\")(25,225))\n",
    "ctor.push_back(ROOT.cv.Point_(\"int\")(50,225))\n",
    "ctor.push_back(ROOT.cv.Point_(\"int\")(50,229))\n",
    "ctor.push_back(ROOT.cv.Point_(\"int\")(29,229))\n",
    "ctor.push_back(ROOT.cv.Point_(\"int\")(29,300))\n",
    "ctor.push_back(ROOT.cv.Point_(\"int\")(25,300))\n",
    "ctor.push_back(ROOT.cv.Point_(\"int\")(25,300))\n",
    "\n",
    "ctor.push_back(ctor[0])\n",
    "for pt in ctor:\n",
    "    pt_x.append(pt.x)\n",
    "    pt_y.append(pt.y)\n",
    "    plt.plot(pt_x,pt_y,'o-',color='black',lw=1)\n",
    "\n",
    "ax=plt.gca()\n",
    "#ax.set_xlim(0,450)\n",
    "#ax.set_ylim(0,450)\n",
    "plt.grid()\n",
    "plt.show()\n",
    "\n",
    "# make a path representing this contour\n",
    "path_list1 = []\n",
    "for pt in ctor:\n",
    "    path_list1.append((pt.x,pt.y)) \n"
   ]
  },
  {
   "cell_type": "code",
   "execution_count": null,
   "metadata": {
    "collapsed": false
   },
   "outputs": [],
   "source": [
    "path1 = matplotlib.path.Path(path_list1)\n",
    "\n",
    "img1 = path1.contains_points(np.row_stack(np.where(a==0)).T).reshape(450,450).astype(np.uint8)\n",
    "\n",
    "img1=np.where(img1>0,img1+80,0)\n",
    "img2 = img1.copy()\n",
    "img3 = img1.copy()\n",
    "M = cv2.getRotationMatrix2D((450/2,450/2),45,1)\n",
    "\n",
    "#rotate 2\n",
    "img2 = cv2.warpAffine(img2,M,(450,450))\n",
    "\n",
    "#flip 2\n",
    "img2 = img2[:,::-1]\n",
    "\n",
    "#get nonzero for 2, and move it...\n",
    "nzero=np.row_stack(np.where(img2>0)).T\n",
    "img2[nzero[:,0],nzero[:,1]]=0\n",
    "img2[nzero[:,0]+20,nzero[:,1]-132]=80\n",
    "\n",
    "#rotate 3\n",
    "M = cv2.getRotationMatrix2D((450/2,450/2),45,1)\n",
    "img3 = cv2.warpAffine(img3,M,(450,450))\n",
    "\n",
    "#get nonzero for 3, and move it...\n",
    "nzero=np.row_stack(np.where(img3>0)).T\n",
    "img3[nzero[:,0],nzero[:,1]]=0\n",
    "img3[nzero[:,0]+100,nzero[:,1]+140]=80\n",
    "\n",
    "#add them...\n",
    "img = img1+img2+img3\n",
    "\n",
    "plt.imshow(img,cmap='Greys',interpolation='none')\n",
    "ax=plt.gca()\n",
    "ax.vlines(227,0,450,color='grey')\n",
    "ax.text(50,50,\"Fake Image\",fontsize=20)\n",
    "fig=plt.gcf()\n",
    "fig.set_size_inches(20,12)\n",
    "plt.show()"
   ]
  },
  {
   "cell_type": "code",
   "execution_count": null,
   "metadata": {
    "collapsed": false
   },
   "outputs": [],
   "source": [
    "iom = larcv.IOManager(larcv.IOManager.kWRITE)\n",
    "iom.set_verbosity(0)\n",
    "iom.set_out_file(\"/tmp/aho.root\")\n",
    "iom.initialize()\n",
    "fake_evimg=iom.get_data(larcv.kProductImage2D,\"test\")\n",
    "fake_evimg.Append(larcv.as_image2d(img1))\n",
    "fake_evimg.Append(larcv.as_image2d(img2))\n",
    "fake_evimg.Append(larcv.as_image2d(img3))\n",
    "iom.set_id(0,0,1)\n",
    "iom.save_entry()\n",
    "iom.finalize()"
   ]
  },
  {
   "cell_type": "code",
   "execution_count": null,
   "metadata": {
    "collapsed": false
   },
   "outputs": [],
   "source": [
    "proc = larcv.ProcessDriver(\"ProcessDriver\")\n",
    "proc.configure('track_vertex_estimator_unit.fcl')\n",
    "f=ROOT.std.string(\"/tmp/aho.root\")\n",
    "flist=ROOT.std.vector('string')()\n",
    "flist.push_back(f)\n",
    "proc.override_input_file(flist)\n",
    "proc.initialize()\n",
    "larbysimg = proc.process_ptr(0)"
   ]
  },
  {
   "cell_type": "code",
   "execution_count": null,
   "metadata": {
    "collapsed": false
   },
   "outputs": [],
   "source": [
    "proc.batch_process(0,1)"
   ]
  },
  {
   "cell_type": "code",
   "execution_count": null,
   "metadata": {
    "collapsed": true
   },
   "outputs": [],
   "source": [
    "mgr=larbysimg.Manager()\n",
    "img_v = []\n",
    "pygeo = geo2d.PyDraw()"
   ]
  },
  {
   "cell_type": "code",
   "execution_count": null,
   "metadata": {
    "collapsed": false,
    "scrolled": false
   },
   "outputs": [],
   "source": [
    "plane=0\n",
    "for mat in mgr.InputImages():\n",
    "    img_v.append(pygeo.image(mat))\n",
    "    shape_img=np.where(img_v[plane]>0.0,1.0,0.0).astype(np.uint8)\n",
    "    fig,ax=plt.subplots(figsize=(12,12),facecolor='w')\n",
    "    plt.imshow(shape_img,cmap='Greys',interpolation='none')\n",
    "    plt.xlabel('Time [6 ticks]',fontsize=20)\n",
    "    plt.ylabel('Wire [2 wires]',fontsize=20)\n",
    "    plt.tick_params(labelsize=20)\n",
    "    ax.set_aspect(0.8)\n",
    "    plt.tight_layout()\n",
    "    plt.show()\n",
    "    plane+=1"
   ]
  },
  {
   "cell_type": "code",
   "execution_count": null,
   "metadata": {
    "collapsed": false,
    "scrolled": false
   },
   "outputs": [],
   "source": [
    "colors=['red','green','blue','orange','magenta','cyan','pink']\n",
    "colors*=10\n",
    "\n",
    "dm=mgr.DataManager()\n",
    "data=dm.Data(0)\n",
    "\n",
    "for plane in xrange(3):\n",
    "    ix=0\n",
    "    fig,ax=plt.subplots(figsize=(12,12),facecolor='w')\n",
    "    print 'Plane',plane\n",
    "    shape_img = img_v[plane]\n",
    "    shape_img=np.where(img_v[plane]>0.0,1.0,0.0).astype(np.uint8)\n",
    "    plt.imshow(shape_img,cmap='Greys',interpolation='none')\n",
    "\n",
    "    nz_pixels=np.where(shape_img>0.0)\n",
    "\n",
    "    vertex_seeds = data.harvest_seeds(plane)\n",
    "    print \"Plane \",plane,\" w/ \",vertex_seeds\n",
    "    cluscomp_v = vertex_seeds.get_compounds()\n",
    "    \n",
    "    #plot the atomics\n",
    "    for cluscomp_id in xrange(cluscomp_v.size()):\n",
    "        cluscomp = cluscomp_v[cluscomp_id]\n",
    "        for atomic_id in xrange(cluscomp.size()):\n",
    "            atomic = cluscomp[atomic_id]\n",
    "            pts=[[atomic[p_id].x,atomic[p_id].y] for p_id in xrange(atomic.size())]\n",
    "            if len(pts)>0: \n",
    "                pts.append(pts[0])\n",
    "                pts=np.array(pts)\n",
    "                plt.plot(pts[:,0],pts[:,1],'-o',lw=5,color=colors[ix])\n",
    "                ix+=1\n",
    "\n",
    "    \n",
    "    points = data.harvest_seed_points(plane)\n",
    "    print \"Found number of seeds \",points.size()\n",
    "    pts_v = np.array([[points[i].x,points[i].y] for i in xrange(points.size())])\n",
    "    if pts_v.size>0:\n",
    "        plt.plot(pts_v[:,0],pts_v[:,1],'*',markersize=30,color='yellow')\n",
    "\n",
    "    ax.set_aspect(1.0)\n",
    "    #plt.tight_layout()\n",
    "    ax.set_ylim(np.min(nz_pixels[0])-10,np.max(nz_pixels[0])+10)\n",
    "    ax.set_xlim(np.min(nz_pixels[1])-10,np.max(nz_pixels[1])+10)\n",
    "    plt.xlabel('Time [6 ticks]',fontsize=20)\n",
    "    plt.ylabel('Wire [2 wires]',fontsize=20)\n",
    "    plt.tick_params(labelsize=20)\n",
    "    ax.set_aspect(0.8)\n",
    "    #ax.text(150,300,\"Yellow == Defect Seed\\nOrange == PCA Seed\",fontsize=30,fontweight='bold')\n",
    "    plt.show()"
   ]
  },
  {
   "cell_type": "code",
   "execution_count": null,
   "metadata": {
    "collapsed": false
   },
   "outputs": [],
   "source": [
    "mgr.GetClusterAlg(1)\n",
    "#alg=mgr.GetClusterAlg(1).Algo()"
   ]
  },
  {
   "cell_type": "code",
   "execution_count": null,
   "metadata": {
    "collapsed": true
   },
   "outputs": [],
   "source": []
  }
 ],
 "metadata": {
  "kernelspec": {
   "display_name": "Python 2",
   "language": "python",
   "name": "python2"
  },
  "language_info": {
   "codemirror_mode": {
    "name": "ipython",
    "version": 2
   },
   "file_extension": ".py",
   "mimetype": "text/x-python",
   "name": "python",
   "nbconvert_exporter": "python",
   "pygments_lexer": "ipython2",
   "version": "2.7.10"
  }
 },
 "nbformat": 4,
 "nbformat_minor": 0
}
