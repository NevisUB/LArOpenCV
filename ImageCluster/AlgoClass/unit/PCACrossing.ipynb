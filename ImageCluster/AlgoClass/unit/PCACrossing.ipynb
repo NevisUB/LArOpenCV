{
 "cells": [
  {
   "cell_type": "code",
   "execution_count": null,
   "metadata": {
    "collapsed": true
   },
   "outputs": [],
   "source": [
    "from larcv import larcv\n",
    "larcv.load_pyutil\n",
    "larcv.load_cvutil\n",
    "import cv2\n",
    "import ROOT\n",
    "from ROOT import fcllite\n",
    "from ROOT import geo2d\n",
    "from ROOT import larocv\n",
    "\n",
    "%matplotlib inline\n",
    "import matplotlib\n",
    "import matplotlib.pyplot as plt\n",
    "import numpy as np"
   ]
  },
  {
   "cell_type": "code",
   "execution_count": null,
   "metadata": {
    "collapsed": false
   },
   "outputs": [],
   "source": [
    "pcacross = larocv.PCACrossing()\n",
    "logger=pcacross.logger()\n",
    "logger.set(0)\n",
    "#set mask on\n",
    "print \"Logger level is...\",logger.level()"
   ]
  },
  {
   "cell_type": "code",
   "execution_count": null,
   "metadata": {
    "collapsed": false
   },
   "outputs": [],
   "source": [
    "ctor = ROOT.std.vector(ROOT.cv.Point_('int'))()"
   ]
  },
  {
   "cell_type": "code",
   "execution_count": null,
   "metadata": {
    "collapsed": false
   },
   "outputs": [],
   "source": [
    "# make some lines\n",
    "line1 = geo2d.Line(\"float\")(50,50,-45)\n",
    "line2 = geo2d.Line(\"float\")(50,50,45)\n",
    "\n",
    "\n",
    "ctor.clear()\n",
    "\n",
    "    \n",
    "pt_x=[]\n",
    "pt_y=[]\n",
    "ctor.push_back(ROOT.cv.Point_(\"int\")(100,96))\n",
    "ctor.push_back(ROOT.cv.Point_(\"int\")(150,94))\n",
    "ctor.push_back(ROOT.cv.Point_(\"int\")(200,93))\n",
    "ctor.push_back(ROOT.cv.Point_(\"int\")(220,81))\n",
    "ctor.push_back(ROOT.cv.Point_(\"int\")(200,82))\n",
    "ctor.push_back(ROOT.cv.Point_(\"int\")(190,82))\n",
    "ctor.push_back(ROOT.cv.Point_(\"int\")(170,83))\n",
    "ctor.push_back(ROOT.cv.Point_(\"int\")(130,84))\n",
    "ctor.push_back(ROOT.cv.Point_(\"int\")(100,85))\n",
    "ctor.push_back(ROOT.cv.Point_(\"int\")(75,86))\n",
    "ctor.push_back(ROOT.cv.Point_(\"int\")(50,87))\n",
    "ctor.push_back(ROOT.cv.Point_(\"int\")(25,88))\n",
    "\n",
    "ctor.push_back(ctor[0])\n",
    "for pt in ctor:\n",
    "    pt_x.append(pt.x)\n",
    "    pt_y.append(pt.y)\n",
    "    plt.plot(pt_x,pt_y,'o-',color='black',lw=1)\n",
    "\n",
    "plt.grid()\n",
    "plt.show()"
   ]
  },
  {
   "cell_type": "code",
   "execution_count": null,
   "metadata": {
    "collapsed": false
   },
   "outputs": [],
   "source": [
    "pcacross"
   ]
  },
  {
   "cell_type": "code",
   "execution_count": null,
   "metadata": {
    "collapsed": false
   },
   "outputs": [],
   "source": [
    "# make a fake image...\n",
    "a=np.zeros((450,450))"
   ]
  },
  {
   "cell_type": "code",
   "execution_count": null,
   "metadata": {
    "collapsed": false
   },
   "outputs": [],
   "source": [
    "# make a path representing this contour\n",
    "path_list1 = []\n",
    "path_list2 = []\n",
    "path_list3 = []\n",
    "for pt in ctor:\n",
    "    path_list1.append((pt.x,pt.y)) \n",
    "    path_list2.append((pt.x,pt.y+100))\n",
    "    path_list3.append((pt.x+100,pt.y))"
   ]
  },
  {
   "cell_type": "code",
   "execution_count": null,
   "metadata": {
    "collapsed": false
   },
   "outputs": [],
   "source": [
    "path1 = matplotlib.path.Path(path_list1)\n",
    "path2 = matplotlib.path.Path(path_list2)\n",
    "path3 = matplotlib.path.Path(path_list3)"
   ]
  },
  {
   "cell_type": "code",
   "execution_count": null,
   "metadata": {
    "collapsed": false
   },
   "outputs": [],
   "source": [
    "img1 = path1.contains_points(np.row_stack(np.where(a==0)).T).reshape(450,450).astype(np.uint8)\n",
    "img2 = path2.contains_points(np.row_stack(np.where(a==0)).T).reshape(450,450).astype(np.uint8)\n",
    "img3 = path3.contains_points(np.row_stack(np.where(a==0)).T).reshape(450,450).astype(np.uint8)\n",
    "\n",
    "#set img1 values to be 20\n",
    "img1=np.where(img1>0,img1+20,0)\n",
    "#set img1 values to be 40\n",
    "img2=np.where(img2>0,img2+40,0)\n",
    "#set img2 values to be 60\n",
    "img3=np.where(img3>0,img3+60,0)\n",
    "\n",
    "#rotate 3\n",
    "M = cv2.getRotationMatrix2D((450/2,450/2),45,1)\n",
    "img3 = cv2.warpAffine(img3,M,(450,450))\n",
    "\n",
    "#add them...\n",
    "img = img1+img2+img3\n",
    "\n",
    "plt.imshow(img,cmap='Greys',interpolation='none')\n",
    "fig=plt.gcf()\n",
    "fig.set_size_inches(10,6)\n",
    "plt.show()"
   ]
  },
  {
   "cell_type": "code",
   "execution_count": null,
   "metadata": {
    "collapsed": true
   },
   "outputs": [],
   "source": [
    "im2, contours, hierarchy = cv2.findContours(img.copy(),cv2.RETR_TREE,cv2.CHAIN_APPROX_SIMPLE)"
   ]
  },
  {
   "cell_type": "code",
   "execution_count": null,
   "metadata": {
    "collapsed": false
   },
   "outputs": [],
   "source": [
    "ctor_arr=np.array(contours)"
   ]
  },
  {
   "cell_type": "code",
   "execution_count": null,
   "metadata": {
    "collapsed": false
   },
   "outputs": [],
   "source": [
    "plt.imshow(img,cmap='Greys',interpolation='none')\n",
    "\n",
    "for ctor in ctor_arr:\n",
    "    ctor=ctor[:,0,:]\n",
    "    plt.plot(ctor[:,0],ctor[:,1],'-',lw=2)\n",
    "    \n",
    "fig=plt.gcf()\n",
    "fig.set_size_inches(20,12)\n",
    "plt.show()"
   ]
  },
  {
   "cell_type": "code",
   "execution_count": null,
   "metadata": {
    "collapsed": false
   },
   "outputs": [],
   "source": [
    "cluscomp=larocv.data.ClusterCompound()\n",
    "for ctor in ctor_arr:\n",
    "    ctor=ctor[:,0,:]\n",
    "    atomic = larocv.data.AtomicContour()\n",
    "    for pt in ctor:\n",
    "        pt_cv = ROOT.cv.Point_('int')()\n",
    "        pt_cv.x = pt[1]\n",
    "        pt_cv.y = pt[0]\n",
    "        atomic.push_back(pt_cv)\n",
    "    print \"This atomic size: \",atomic.size()\n",
    "    cluscomp.push_back(atomic)"
   ]
  },
  {
   "cell_type": "code",
   "execution_count": null,
   "metadata": {
    "collapsed": true
   },
   "outputs": [],
   "source": [
    "#Got a mat object to send...\n",
    "mat = larcv.as_gray_mat(larcv.as_image2d(img))"
   ]
  },
  {
   "cell_type": "code",
   "execution_count": null,
   "metadata": {
    "collapsed": false
   },
   "outputs": [],
   "source": [
    "intersections = pcacross.ComputeIntersections(cluscomp,mat)"
   ]
  },
  {
   "cell_type": "code",
   "execution_count": null,
   "metadata": {
    "collapsed": false
   },
   "outputs": [],
   "source": [
    "plt.imshow(img,cmap='Greys',interpolation='none')\n",
    "\n",
    "for ctor in ctor_arr:\n",
    "    ctor=ctor[:,0,:]\n",
    "    plt.plot(ctor[:,0],ctor[:,1],'-',lw=2)\n",
    "\n",
    "for intersection in intersections:\n",
    "    plt.plot(intersection.y,\n",
    "             intersection.x,'*',color='yellow',markersize=20)\n",
    "    \n",
    "fig=plt.gcf()\n",
    "fig.set_size_inches(20,12)\n",
    "plt.show()"
   ]
  },
  {
   "cell_type": "code",
   "execution_count": null,
   "metadata": {
    "collapsed": true
   },
   "outputs": [],
   "source": []
  }
 ],
 "metadata": {
  "kernelspec": {
   "display_name": "Python 2",
   "language": "python",
   "name": "python2"
  },
  "language_info": {
   "codemirror_mode": {
    "name": "ipython",
    "version": 2
   },
   "file_extension": ".py",
   "mimetype": "text/x-python",
   "name": "python",
   "nbconvert_exporter": "python",
   "pygments_lexer": "ipython2",
   "version": "2.7.10"
  }
 },
 "nbformat": 4,
 "nbformat_minor": 0
}
