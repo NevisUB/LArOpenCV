{
 "cells": [
  {
   "cell_type": "code",
   "execution_count": 1,
   "metadata": {
    "collapsed": true
   },
   "outputs": [],
   "source": [
    "#get larlite\n",
    "from larlite import larlite as ll"
   ]
  },
  {
   "cell_type": "code",
   "execution_count": 2,
   "metadata": {
    "collapsed": false
   },
   "outputs": [
    {
     "data": {
      "text/plain": [
       "True"
      ]
     },
     "execution_count": 2,
     "metadata": {},
     "output_type": "execute_result"
    }
   ],
   "source": [
    "#create storage manager\n",
    "sm = ll.storage_manager()\n",
    "sm.set_io_mode(ll.storage_manager.kWRITE)\n",
    "sm.set_out_filename(\"fakepi0.root\")\n",
    "sm.open()"
   ]
  },
  {
   "cell_type": "code",
   "execution_count": 3,
   "metadata": {
    "collapsed": false
   },
   "outputs": [],
   "source": [
    "#streamer for event_hit\n",
    "event_hits = sm.get_data(ll.data.kHit,\"fake_pi0\")\n",
    "event_vertex = sm.get_data(ll.data.kVertex,\"fake_vertex\")"
   ]
  },
  {
   "cell_type": "code",
   "execution_count": 4,
   "metadata": {
    "collapsed": false
   },
   "outputs": [],
   "source": [
    "#max and min wire and time\n",
    "wmax = 3400.0\n",
    "wmin = 0.0\n",
    "tmax = 6399.0\n",
    "tmin = 0.0"
   ]
  },
  {
   "cell_type": "code",
   "execution_count": 5,
   "metadata": {
    "collapsed": false
   },
   "outputs": [],
   "source": [
    "#region we want gammas in \n",
    "start1 = (wmax/60.0,tmax/60.0)\n",
    "end1   = (wmax/50.0,tmax/50.0)\n",
    "\n",
    "#gammas have some angle\n",
    "slope1 = ( end1[1] - start1[1] ) / ( end1[0] - start1[0] ) * 2.0\n",
    "slope2 = ( end1[1] - start1[1] ) / ( end1[0] - start1[0] ) / 2.0"
   ]
  },
  {
   "cell_type": "code",
   "execution_count": 6,
   "metadata": {
    "collapsed": false
   },
   "outputs": [],
   "source": [
    "#graphics \n",
    "import numpy as np\n",
    "import matplotlib\n",
    "import matplotlib.pyplot as plt\n",
    "%matplotlib inline\n",
    "#%matplotlib notebook"
   ]
  },
  {
   "cell_type": "code",
   "execution_count": 7,
   "metadata": {
    "collapsed": true
   },
   "outputs": [],
   "source": [
    "cone1 = lambda x : start1[1]+slope1*(x-start1[0])\n",
    "cone2 = lambda x : start1[1]+slope2*(x-start1[0])"
   ]
  },
  {
   "cell_type": "code",
   "execution_count": 8,
   "metadata": {
    "collapsed": false
   },
   "outputs": [],
   "source": [
    "a=np.random.uniform(start1,end1,size=(10000,2))\n",
    "gamma1=a[cone1(a[:,0])  < a[:,1]]\n",
    "gamma2=a[cone2(a[:,0]) > a[:,1]]\n",
    "\n",
    "#Move them 500 ticks down\n",
    "gamma2[:,1] -= 50.0"
   ]
  },
  {
   "cell_type": "code",
   "execution_count": 9,
   "metadata": {
    "collapsed": false
   },
   "outputs": [
    {
     "data": {
      "image/png": "[encoded data removed]",
      "text/plain": [
       "<matplotlib.figure.Figure at 0x122077d10>"
      ]
     },
     "metadata": {},
     "output_type": "display_data"
    }
   ],
   "source": [
    "#show it\n",
    "fig,ax=plt.subplots(figsize=(10,6))\n",
    "matplotlib.rcParams['font.size']=20\n",
    "matplotlib.rcParams['font.family']='serif'\n",
    "ax.plot(gamma1[:,0],gamma1[:,1],'o')\n",
    "ax.plot(gamma2[:,0],gamma2[:,1],'o')\n",
    "ax.set_xlim(0,end1[0]+10)\n",
    "ax.set_ylim(0,end1[1]+10)\n",
    "ax.set_xlabel(\"Wire\",fontweight='bold')\n",
    "ax.set_ylabel(\"Time\",fontweight='bold')\n",
    "x1=54\n",
    "y1=70\n",
    "ax.plot([x1],[y1],'o',color='red',markersize=10)\n",
    "ax.vlines(x1,0,end1[1]+10,color='red',lw=3,alpha=0.2)\n",
    "ax.hlines(y1,0,end1[0]+10,color='red',lw=3,alpha=0.2)\n",
    "ax.grid()\n",
    "plt.show()"
   ]
  },
  {
   "cell_type": "code",
   "execution_count": 10,
   "metadata": {
    "collapsed": false
   },
   "outputs": [],
   "source": [
    "from larlite import larutil as lu\n",
    "geo = lu.Geometry.GetME()\n",
    "geoh= lu.GeometryHelper.GetME()"
   ]
  },
  {
   "cell_type": "code",
   "execution_count": 11,
   "metadata": {
    "collapsed": false
   },
   "outputs": [
    {
     "name": "stdout",
     "output_type": "stream",
     "text": [
      "-40.6740972027 999.0 16.2000006437\n"
     ]
    }
   ],
   "source": [
    "import ROOT\n",
    "\n",
    "#cheap way to pass double pointer to ll.vertex's constructor\n",
    "a = ROOT.std.vector(\"double\")()\n",
    "\n",
    "a.push_back((y1-800) * geoh.TimeToCm())\n",
    "a.push_back(999) # doesn't matter\n",
    "a.push_back(x1 * geoh.WireToCm())\n",
    "\n",
    "print a[0],a[1],a[2]\n",
    "vtx=ll.vertex(a.data())"
   ]
  },
  {
   "cell_type": "code",
   "execution_count": 12,
   "metadata": {
    "collapsed": false
   },
   "outputs": [
    {
     "name": "stdout",
     "output_type": "stream",
     "text": [
      "53.6666688124 70.0\n"
     ]
    }
   ],
   "source": [
    "#Now that I have the vertex, if I run that 3D_to_2D function, does it actually\n",
    "#give me what I want? Namely... x1 and y1 back correctly...\n",
    "\n",
    "px = geoh.Point_3Dto2D(ROOT.TVector3(vtx.X(),vtx.Y(),vtx.Z()),2)\n",
    "print px.w/geoh.WireToCm(),px.t/geoh.TimeToCm() + 800\n"
   ]
  },
  {
   "cell_type": "code",
   "execution_count": 13,
   "metadata": {
    "collapsed": true
   },
   "outputs": [],
   "source": [
    "#store the vertex\n",
    "event_vertex.push_back(vtx)"
   ]
  },
  {
   "cell_type": "code",
   "execution_count": 14,
   "metadata": {
    "collapsed": true
   },
   "outputs": [],
   "source": [
    "#store gamma 1\n",
    "for g in gamma1:\n",
    "    h = ll.hit()\n",
    "    h.set_wire(ll.geo.WireID(1,1,2,int(g[0])))\n",
    "    h.set_time_peak(g[1],0.0)\n",
    "    h.set_integral(100.0,0.0)\n",
    "    event_hits.push_back(h)"
   ]
  },
  {
   "cell_type": "code",
   "execution_count": 15,
   "metadata": {
    "collapsed": true
   },
   "outputs": [],
   "source": [
    "#store gamma 2\n",
    "for g in gamma2:\n",
    "    h = ll.hit()\n",
    "    h.set_wire(ll.geo.WireID(1,1,2,int(g[0])))\n",
    "    h.set_time_peak(g[1],0.0)\n",
    "    h.set_integral(100.0,0.0)\n",
    "    event_hits.push_back(h)"
   ]
  },
  {
   "cell_type": "code",
   "execution_count": 16,
   "metadata": {
    "collapsed": true
   },
   "outputs": [],
   "source": [
    "#Set id for larlite id tree\n",
    "sm.set_id(1,1,1)"
   ]
  },
  {
   "cell_type": "code",
   "execution_count": 17,
   "metadata": {
    "collapsed": false
   },
   "outputs": [
    {
     "data": {
      "text/plain": [
       "True"
      ]
     },
     "execution_count": 17,
     "metadata": {},
     "output_type": "execute_result"
    }
   ],
   "source": [
    "#call next event to store\n",
    "sm.next_event()"
   ]
  },
  {
   "cell_type": "code",
   "execution_count": 18,
   "metadata": {
    "collapsed": false
   },
   "outputs": [
    {
     "data": {
      "text/plain": [
       "True"
      ]
     },
     "execution_count": 18,
     "metadata": {},
     "output_type": "execute_result"
    }
   ],
   "source": [
    "#close that bad boi\n",
    "sm.close()"
   ]
  },
  {
   "cell_type": "code",
   "execution_count": null,
   "metadata": {
    "collapsed": true
   },
   "outputs": [],
   "source": []
  },
  {
   "cell_type": "code",
   "execution_count": null,
   "metadata": {
    "collapsed": true
   },
   "outputs": [],
   "source": []
  }
 ],
 "metadata": {
  "kernelspec": {
   "display_name": "Python 2",
   "language": "python",
   "name": "python2"
  },
  "language_info": {
   "codemirror_mode": {
    "name": "ipython",
    "version": 2
   },
   "file_extension": ".py",
   "mimetype": "text/x-python",
   "name": "python",
   "nbconvert_exporter": "python",
   "pygments_lexer": "ipython2",
   "version": "2.7.10"
  }
 },
 "nbformat": 4,
 "nbformat_minor": 0
}
