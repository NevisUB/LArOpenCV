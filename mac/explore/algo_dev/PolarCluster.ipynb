{
 "cells": [
  {
   "cell_type": "code",
   "execution_count": null,
   "metadata": {
    "collapsed": true
   },
   "outputs": [],
   "source": [
    "import matplotlib\n",
    "import matplotlib.pyplot as plt\n",
    "import numpy as np\n",
    "import cv2\n",
    "%matplotlib inline"
   ]
  },
  {
   "cell_type": "code",
   "execution_count": null,
   "metadata": {
    "collapsed": false
   },
   "outputs": [],
   "source": [
    "a = np.zeros((100,200))\n",
    "a[25:50,25:50]=np.ones((25,25))\n",
    "a[50:75,50:75]=np.ones((25,25))\n",
    "a[10:15,...]=np.ones((5,200))\n",
    "a[80:85,...]=np.ones((5,200))\n",
    "plt.grid()\n",
    "plt.imshow(a,cmap=\"Greys\",interpolation='none')"
   ]
  },
  {
   "cell_type": "code",
   "execution_count": null,
   "metadata": {
    "collapsed": false
   },
   "outputs": [],
   "source": [
    "b=cv2.linearPolar(a,(50,50),75.0,flags=cv2.WARP_FILL_OUTLIERS)\n",
    "plt.imshow(b,cmap=\"Greys\",interpolation='none')\n",
    "plt.show()"
   ]
  },
  {
   "cell_type": "code",
   "execution_count": null,
   "metadata": {
    "collapsed": false
   },
   "outputs": [],
   "source": [
    "c=cv2.linearPolar(b,(50.0,50.0),75.0,flags=cv2.WARP_FILL_OUTLIERS+cv2.WARP_INVERSE_MAP+cv2.INTER_LINEAR)\n",
    "plt.imshow(c,cmap=\"Greys\",interpolation='none')\n",
    "plt.grid()\n",
    "plt.show()"
   ]
  },
  {
   "cell_type": "code",
   "execution_count": null,
   "metadata": {
    "collapsed": false
   },
   "outputs": [],
   "source": [
    "im2, contours, hierarchy = cv2.findContours(b.astype(np.uint8),cv2.RETR_TREE,cv2.CHAIN_APPROX_SIMPLE)"
   ]
  },
  {
   "cell_type": "code",
   "execution_count": null,
   "metadata": {
    "collapsed": false
   },
   "outputs": [],
   "source": [
    "plt.imshow(im2,cmap='Greys',interpolation='none')\n",
    "for contour in contours:\n",
    "    pts=contour[:,0].copy()\n",
    "    plt.plot(pts[:,0],pts[:,1])\n",
    "ax=plt.gca()"
   ]
  },
  {
   "cell_type": "code",
   "execution_count": null,
   "metadata": {
    "collapsed": false,
    "scrolled": false
   },
   "outputs": [],
   "source": [
    "plt.imshow(c,cmap='Greys',interpolation='none')\n",
    "for ix,contour in enumerate(contours):\n",
    "    pts=contour[:,0].copy().astype(np.float32)\n",
    "    pts[:,1]=pts[:,1]/float(100.0)*360.0*np.pi/180.0\n",
    "    pts[:,0]=pts[:,0]/200.0*75.0\n",
    "    x=pts[:,0]*np.cos(pts[:,1])+50.0\n",
    "    y=pts[:,0]*np.sin(pts[:,1])+50.0\n",
    "    \n",
    "    plt.plot(x,y)\n",
    "    \n",
    "plt.show()"
   ]
  },
  {
   "cell_type": "code",
   "execution_count": null,
   "metadata": {
    "collapsed": false
   },
   "outputs": [],
   "source": [
    "mask=np.zeros((100,100))\n",
    "for contour in contours[4:5]:\n",
    "    c = contour[:,0]\n",
    "    mask[c[:,1],c[:,0]] = 1.0\n",
    "\n",
    "plt.imshow(mask,cmap='Greys',interpolation='none')"
   ]
  },
  {
   "cell_type": "code",
   "execution_count": null,
   "metadata": {
    "collapsed": true
   },
   "outputs": [],
   "source": [
    "maskout=cv2.linearPolar(mask,(50.0,50.0),\n",
    "                      50.0,\n",
    "                      flags=cv2.WARP_FILL_OUTLIERS+cv2.WARP_INVERSE_MAP)"
   ]
  },
  {
   "cell_type": "code",
   "execution_count": null,
   "metadata": {
    "collapsed": false
   },
   "outputs": [],
   "source": [
    "plt.imshow(maskout,cmap='Greys',interpolation='none')"
   ]
  },
  {
   "cell_type": "code",
   "execution_count": null,
   "metadata": {
    "collapsed": true
   },
   "outputs": [],
   "source": []
  }
 ],
 "metadata": {
  "kernelspec": {
   "display_name": "Python 2",
   "language": "python",
   "name": "python2"
  },
  "language_info": {
   "codemirror_mode": {
    "name": "ipython",
    "version": 2
   },
   "file_extension": ".py",
   "mimetype": "text/x-python",
   "name": "python",
   "nbconvert_exporter": "python",
   "pygments_lexer": "ipython2",
   "version": "2.7.10"
  }
 },
 "nbformat": 4,
 "nbformat_minor": 0
}
