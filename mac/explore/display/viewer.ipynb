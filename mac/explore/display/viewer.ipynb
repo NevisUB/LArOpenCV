{
 "cells": [
  {
   "cell_type": "code",
   "execution_count": null,
   "metadata": {
    "collapsed": false
   },
   "outputs": [],
   "source": [
    "#get larlite\n",
    "from larlite import larlite as ll\n",
    "from larlite import larutil as lu\n",
    "\n",
    "geo=lu.Geometry.GetME()\n",
    "geoH=lu.GeometryHelper.GetME()\n",
    "\n",
    "import ROOT"
   ]
  },
  {
   "cell_type": "code",
   "execution_count": null,
   "metadata": {
    "collapsed": false
   },
   "outputs": [],
   "source": [
    "#graphics \n",
    "import numpy as np\n",
    "import matplotlib\n",
    "import matplotlib.pyplot as plt\n",
    "%matplotlib inline"
   ]
  },
  {
   "cell_type": "code",
   "execution_count": null,
   "metadata": {
    "collapsed": false
   },
   "outputs": [],
   "source": [
    "#create storage manager\n",
    "sm = ll.storage_manager()\n",
    "sm.set_io_mode(ll.storage_manager.kREAD)\n",
    "FILENAME=\"../../App/mac/test_output.root\"\n",
    "sm.add_in_filename(FILENAME)\n",
    "sm.open()"
   ]
  },
  {
   "cell_type": "code",
   "execution_count": null,
   "metadata": {
    "collapsed": false
   },
   "outputs": [],
   "source": [
    "#there is only 1 event\n",
    "sm.next_event()"
   ]
  },
  {
   "cell_type": "code",
   "execution_count": null,
   "metadata": {
    "collapsed": false
   },
   "outputs": [],
   "source": [
    "#get hits and clusters\n",
    "event_hits     = sm.get_data(ll.data.kHit,\"gaushit\")\n",
    "event_clusters = sm.get_data(ll.data.kCluster,\"ImageClusterHit\")\n",
    "\n",
    "#get ass\n",
    "event_ass      = sm.get_data(ll.data.kAssociation,\"ImageClusterHit\")\n",
    "\n",
    "#get association\n",
    "cluster_to_hit_ass = event_ass.association(event_clusters.id(),event_hits.id())\n",
    "\n",
    "#get the vertex_data\n",
    "event_vertex = sm.get_data(ll.data.kVertex,\"numuCC_vertex\")\n",
    "\n",
    "#get contour data\n",
    "event_user = sm.get_data(ll.data.kUserInfo,\"ImageClusterHit\")"
   ]
  },
  {
   "cell_type": "code",
   "execution_count": null,
   "metadata": {
    "collapsed": false
   },
   "outputs": [],
   "source": [
    "import root_numpy as rn\n",
    "gausdata = rn.root2array(FILENAME,\n",
    "                        treename='hit_gaushit_tree',\n",
    "                        branches=['hit_gaushit_branch.vector<larlite::hit>.fPeakTime',\n",
    "                                  'hit_gaushit_branch.vector<larlite::hit>.fWireID.Wire',\n",
    "                                  'hit_gaushit_branch.vector<larlite::hit>.fWireID.Plane'])\n",
    "\n",
    "import pandas as pd\n",
    "evt=0\n",
    "hits_df= pd.DataFrame({'Wire'      : gausdata[evt][1],\n",
    "                       'PeakTime'  : gausdata[evt][0],\n",
    "                       'Plane'     : gausdata[evt][2]})"
   ]
  },
  {
   "cell_type": "code",
   "execution_count": null,
   "metadata": {
    "collapsed": false
   },
   "outputs": [],
   "source": [
    "print \"There are...\",cluster_to_hit_ass.size(),\" clusters.\""
   ]
  },
  {
   "cell_type": "code",
   "execution_count": null,
   "metadata": {
    "collapsed": false
   },
   "outputs": [],
   "source": [
    "#How much data is in event_user?\n",
    "print event_user.size()"
   ]
  },
  {
   "cell_type": "code",
   "execution_count": null,
   "metadata": {
    "collapsed": false
   },
   "outputs": [],
   "source": [
    "#Show the ImageClusters\n",
    "plane=2\n",
    "sbc_data=event_user[plane]\n",
    "hsv = plt.get_cmap('jet')\n",
    "lors = hsv(np.linspace(0, 1.0, cluster_to_hit_ass.size()))\n",
    "\n",
    "fig,ax=plt.subplots(figsize=(10*2,6*2))\n",
    "c=-1\n",
    "# plot each cluster and userinfo\n",
    "for ix,cluster in enumerate(cluster_to_hit_ass):\n",
    "    \n",
    "    #get the hits for this clusters\n",
    "    slice_=np.array(cluster)\n",
    "    if event_clusters[ix].Plane().Plane != plane: continue\n",
    "    if slice_.size == 0: continue\n",
    "        \n",
    "    c+=1\n",
    "\n",
    "    hslice = hits_df.iloc[slice_]\n",
    "    \n",
    "    ax.plot(hslice.Wire,hslice.PeakTime,'o',color='black',markersize=3)\n",
    "    \n",
    "    #call user_info get_darray, for the contour   \n",
    "    xx=np.array(sbc_data.get_darray('sbc_{}_{}_x'.format(plane,c)))\n",
    "    yy=np.array(sbc_data.get_darray('sbc_{}_{}_y'.format(plane,c)))\n",
    "\n",
    "    xx=np.append(xx,xx[0])\n",
    "    yy=np.append(yy,yy[0])\n",
    "\n",
    "    plt.plot(yy,xx,'-',lw=2)\n",
    "    \n",
    "    vtx=ROOT.std.vector('double')()\n",
    "    vtx.resize(3)\n",
    "    vtx[0]=event_vertex[0].X()\n",
    "    vtx[1]=event_vertex[0].Y()\n",
    "    vtx[2]=event_vertex[0].Z()\n",
    "    px = geoH.Point_3Dto2D(vtx.data(),plane)\n",
    "    pt=np.array([px.w/geoH.WireToCm(),px.t//geoH.TimeToCm()+800.0])\n",
    "    \n",
    "    ax.plot(pt[0],pt[1],'*',markersize=30,color='yellow')\n",
    "    \n",
    "        \n",
    "    bbx=np.array(sbc_data.get_darray('roi_bounds_{}_w'.format(plane)))\n",
    "    bby=np.array(sbc_data.get_darray('roi_bounds_{}_t'.format(plane)))\n",
    "\n",
    "    bbx=np.append(bbx,bbx[0])\n",
    "    bby=np.append(bby,bby[0])\n",
    "\n",
    "    plt.plot(bbx,bby,'-',lw=2,color='brown')\n",
    "    \n",
    "plt.grid()\n",
    "plt.show()"
   ]
  }
 ],
 "metadata": {
  "kernelspec": {
   "display_name": "Python 2",
   "language": "python",
   "name": "python2"
  },
  "language_info": {
   "codemirror_mode": {
    "name": "ipython",
    "version": 2
   },
   "file_extension": ".py",
   "mimetype": "text/x-python",
   "name": "python",
   "nbconvert_exporter": "python",
   "pygments_lexer": "ipython2",
   "version": "2.7.10"
  }
 },
 "nbformat": 4,
 "nbformat_minor": 0
}
