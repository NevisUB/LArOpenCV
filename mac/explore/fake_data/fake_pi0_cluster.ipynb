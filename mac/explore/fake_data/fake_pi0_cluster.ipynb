{
 "cells": [
  {
   "cell_type": "code",
   "execution_count": null,
   "metadata": {
    "collapsed": false
   },
   "outputs": [],
   "source": [
    "#get larlite\n",
    "from larlite import larlite as ll"
   ]
  },
  {
   "cell_type": "code",
   "execution_count": null,
   "metadata": {
    "collapsed": false
   },
   "outputs": [],
   "source": [
    "#create storage manager\n",
    "sm = ll.storage_manager()\n",
    "sm.set_io_mode(ll.storage_manager.kREAD)\n",
    "sm.add_in_filename(\"../../App/mac/baby_output.root\")\n",
    "sm.open()"
   ]
  },
  {
   "cell_type": "code",
   "execution_count": null,
   "metadata": {
    "collapsed": false
   },
   "outputs": [],
   "source": [
    "#there is only 1 event\n",
    "sm.next_event()"
   ]
  },
  {
   "cell_type": "code",
   "execution_count": null,
   "metadata": {
    "collapsed": false
   },
   "outputs": [],
   "source": [
    "#get hits and clusters\n",
    "event_hits     = sm.get_data(ll.data.kHit,\"fake_pi0\")\n",
    "event_clusters = sm.get_data(ll.data.kCluster,\"ImageClusterHit\")\n",
    "\n",
    "#get ass\n",
    "event_ass      = sm.get_data(ll.data.kAssociation,\"ImageClusterHit\")\n",
    "\n",
    "#get association\n",
    "cluster_to_hit_ass = event_ass.association(event_clusters.id(),event_hits.id())\n",
    "\n",
    "#get contour data\n",
    "event_user = sm.get_data(ll.data.kUserInfo,\"ImageClusterHit\")"
   ]
  },
  {
   "cell_type": "code",
   "execution_count": null,
   "metadata": {
    "collapsed": false
   },
   "outputs": [],
   "source": [
    "#graphics \n",
    "import numpy as np\n",
    "import matplotlib\n",
    "import matplotlib.pyplot as plt\n",
    "%matplotlib inline"
   ]
  },
  {
   "cell_type": "code",
   "execution_count": null,
   "metadata": {
    "collapsed": false
   },
   "outputs": [],
   "source": [
    "#copy hits out into number array, super duper slow\n",
    "hxy = np.array([ [event_hits[i].WireID().Wire,event_hits[i].PeakTime()] for i in xrange(event_hits.size())])"
   ]
  },
  {
   "cell_type": "code",
   "execution_count": null,
   "metadata": {
    "collapsed": false
   },
   "outputs": [],
   "source": [
    "print \"There are...\",cluster_to_hit_ass.size(),\" clusters.\""
   ]
  },
  {
   "cell_type": "code",
   "execution_count": null,
   "metadata": {
    "collapsed": false
   },
   "outputs": [],
   "source": [
    "#How much data is in event_user?\n",
    "print event_user.size()"
   ]
  },
  {
   "cell_type": "code",
   "execution_count": null,
   "metadata": {
    "collapsed": false
   },
   "outputs": [],
   "source": [
    "sbc_data=event_user[0]\n",
    "pcao_data=event_user[1]"
   ]
  },
  {
   "cell_type": "code",
   "execution_count": null,
   "metadata": {
    "collapsed": false
   },
   "outputs": [],
   "source": [
    "#See terminal for list of available keys\n",
    "sbc_data.dump_contents()\n",
    "\n",
    "#See terminal for list of available keys\n",
    "pcao_data.dump_contents()"
   ]
  },
  {
   "cell_type": "code",
   "execution_count": null,
   "metadata": {
    "collapsed": false
   },
   "outputs": [],
   "source": [
    "#Show the ImageClusters\n",
    "hsv = plt.get_cmap('jet')\n",
    "lors = hsv(np.linspace(0, 1.0, cluster_to_hit_ass.size()))\n",
    "\n",
    "fig,ax=plt.subplots(figsize=(10,6))\n",
    "\n",
    "# plot each cluster and userinfo\n",
    "for ix,cluster in enumerate(cluster_to_hit_ass):\n",
    "    \n",
    "    #get the hits for this clusters\n",
    "    hslice = hxy[np.array(cluster)]\n",
    "    plt.plot(hslice[:,0],hslice[:,1],'o',color=lors[ix])\n",
    "    \n",
    "    #call user_info get_darray, for the contour   \n",
    "    xx=np.array(sbc_data.get_darray('sbc_2_{}_x'.format(ix)))\n",
    "    yy=np.array(sbc_data.get_darray('sbc_2_{}_y'.format(ix)))\n",
    "\n",
    "    xx=np.append(xx,xx[0])\n",
    "    yy=np.append(yy,yy[0])\n",
    "\n",
    "    plt.plot(yy,xx,'o-')\n",
    "    \n",
    "    #call user_info get_darray, for PCA\n",
    "    dir_=np.array(pcao_data.get_darray('pcao_2_dir_{}'.format(ix)))\n",
    "\n",
    "    #get the mean value of X and Y points for this clusters\n",
    "    mean_x=hslice[:,0].mean()\n",
    "    mean_y=hslice[:,1].mean()\n",
    "         \n",
    "    #slope is the ratio of dir_y/x\n",
    "    slope=dir_[0]/dir_[1]\n",
    "    \n",
    "    #generate some fake X values for PCA line\n",
    "    xline=np.arange(56,68,1)\n",
    "    plt.plot(xline,slope*(xline-mean_x)+mean_y,'-',lw=2)\n",
    "    \n",
    "    print mean_x\n",
    "    \n",
    "    \n",
    "ax.set_ylim(50,135)\n",
    "ax.set_xlim(50,70)\n",
    "plt.grid()\n",
    "plt.show()"
   ]
  },
  {
   "cell_type": "code",
   "execution_count": null,
   "metadata": {
    "collapsed": false
   },
   "outputs": [],
   "source": []
  },
  {
   "cell_type": "code",
   "execution_count": null,
   "metadata": {
    "collapsed": false
   },
   "outputs": [],
   "source": []
  }
 ],
 "metadata": {
  "kernelspec": {
   "display_name": "Python 2",
   "language": "python",
   "name": "python2"
  },
  "language_info": {
   "codemirror_mode": {
    "name": "ipython",
    "version": 2
   },
   "file_extension": ".py",
   "mimetype": "text/x-python",
   "name": "python",
   "nbconvert_exporter": "python",
   "pygments_lexer": "ipython2",
   "version": "2.7.10"
  }
 },
 "nbformat": 4,
 "nbformat_minor": 0
}
