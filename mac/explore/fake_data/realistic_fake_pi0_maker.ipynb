{
 "cells": [
  {
   "cell_type": "code",
   "execution_count": null,
   "metadata": {
    "collapsed": true
   },
   "outputs": [],
   "source": [
    "import matplotlib\n",
    "from matplotlib import pyplot as plt\n",
    "from mpl_toolkits.mplot3d import Axes3D    # @UnusedImport\n",
    "\n",
    "import numpy as np"
   ]
  },
  {
   "cell_type": "code",
   "execution_count": null,
   "metadata": {
    "collapsed": false
   },
   "outputs": [],
   "source": [
    "def cone_maker(stretch,offset):\n",
    "    z = stretch*np.arange(0, 1, 0.1)\n",
    "    \n",
    "    a=[None for _ in xrange(len(z))]\n",
    "\n",
    "    for ix,zval in enumerate(z):\n",
    "    \n",
    "        n=int(zval*100/stretch)\n",
    "    \n",
    "        xrand=np.random.uniform(-zval,zval,size=n)\n",
    "        yrand=np.random.uniform(-zval,zval,size=n)\n",
    "    \n",
    "        xy=np.vstack((xrand,yrand)).T\n",
    "        xy_cut = xy[ np.sqrt(np.power(xy[:,0],2) + np.power(xy[:,1],2)) < zval  ]\n",
    "    \n",
    "        zvals=zval*np.ones(xy_cut.shape[0])\n",
    "    \n",
    "        a[ix]=np.vstack((xy_cut[:,0]+offset[0],\n",
    "                         xy_cut[:,1]+offset[1],\n",
    "                         zvals+offset[2]))\n",
    "        \n",
    "    return np.concatenate(tuple(a[1:]),axis=1).T"
   ]
  },
  {
   "cell_type": "code",
   "execution_count": null,
   "metadata": {
    "collapsed": false
   },
   "outputs": [],
   "source": [
    "cone1=cone_maker(stretch=100.0,offset=(50,50,50))"
   ]
  },
  {
   "cell_type": "code",
   "execution_count": null,
   "metadata": {
    "collapsed": true
   },
   "outputs": [],
   "source": [
    "def rx(t):\n",
    "    return np.array([[1,0,0],[0,np.cos(t),-1.0*np.sin(t)],[0,np.sin(t),np.cos(t)]])\n",
    "def ry(t):\n",
    "    return np.array([[np.cos(t),0,np.sin(t)],[0,1,0],[-1.0*np.sin(t),0,np.cos(t)]])\n",
    "def rz(t):\n",
    "    return np.array([[np.cos(t),-1.0*np.sin(t),0],[np.sin(t),np.cos(t),0.0],[0,0,1]])"
   ]
  },
  {
   "cell_type": "code",
   "execution_count": null,
   "metadata": {
    "collapsed": true
   },
   "outputs": [],
   "source": [
    "cone2=[]\n",
    "for pt in cone1:\n",
    "    cone2.append(np.dot(rx(120*np.pi/180.0),pt))\n",
    "cone2=np.array(cone2)\n",
    "\n",
    "cone3=[]\n",
    "for pt in cone2:\n",
    "    cone3.append(np.dot(ry(45*np.pi/180.0),pt))\n",
    "cone3=np.array(cone3)\n"
   ]
  },
  {
   "cell_type": "code",
   "execution_count": null,
   "metadata": {
    "collapsed": false
   },
   "outputs": [],
   "source": [
    "fig = plt.figure()\n",
    "axes1 = fig.add_subplot(111, projection='3d')\n",
    "\n",
    "axes1.plot(cone1[:,0],\n",
    "           cone1[:,1],\n",
    "           cone1[:,2],\n",
    "           'o',color='blue')\n",
    "\n",
    "axes1.plot(cone2[:,0],\n",
    "           cone2[:,1]+80.0,\n",
    "           cone2[:,2]+10.0,\n",
    "           'o',color='green')\n",
    "\n",
    "axes1.plot(cone3[:,0],\n",
    "           cone3[:,1]+80.0,\n",
    "           cone3[:,2]-100.0,\n",
    "           'o',color='red')\n",
    "\n",
    "\n",
    "axes1.set_xlabel(\"x label\")\n",
    "axes1.set_ylabel(\"y label\")\n",
    "axes1.set_zlabel(\"z label\")\n",
    "\n",
    "#axes1.set_xlim(250,750)\n",
    "#axes1.set_ylim(-250,750-250)\n",
    "#axes1.set_zlim(400,900)\n",
    "axes1.autoscale()\n",
    "plt.grid()\n",
    "plt.show()"
   ]
  },
  {
   "cell_type": "code",
   "execution_count": null,
   "metadata": {
    "collapsed": false
   },
   "outputs": [],
   "source": [
    "from larlite import larlite as ll\n",
    "from larlite import larutil as lu"
   ]
  },
  {
   "cell_type": "code",
   "execution_count": null,
   "metadata": {
    "collapsed": false
   },
   "outputs": [],
   "source": [
    "geoH=lu.GeometryHelper.GetME()\n",
    "geo =lu.Geometry.GetME()"
   ]
  },
  {
   "cell_type": "code",
   "execution_count": null,
   "metadata": {
    "collapsed": false
   },
   "outputs": [],
   "source": [
    "cone1[0]"
   ]
  },
  {
   "cell_type": "code",
   "execution_count": null,
   "metadata": {
    "collapsed": false
   },
   "outputs": [],
   "source": [
    "import ROOT;"
   ]
  },
  {
   "cell_type": "code",
   "execution_count": null,
   "metadata": {
    "collapsed": false
   },
   "outputs": [],
   "source": [
    "k=ROOT.std.vector(\"double\")()\n",
    "k.resize(3)\n",
    "k[0] = cone1[1][0]\n",
    "k[1] = cone1[1][1]\n",
    "k[2] = cone1[1][2]"
   ]
  },
  {
   "cell_type": "code",
   "execution_count": null,
   "metadata": {
    "collapsed": false
   },
   "outputs": [],
   "source": [
    "plane0_c1=[[0.0,0.0] for _ in xrange(cone1.shape[0])]\n",
    "plane1_c1=[[0.0,0.0] for _ in xrange(cone1.shape[0])]\n",
    "plane2_c1=[[0.0,0.0] for _ in xrange(cone1.shape[0])]\n",
    "\n",
    "plane0_c2=[[0.0,0.0] for _ in xrange(cone1.shape[0])]\n",
    "plane1_c2=[[0.0,0.0] for _ in xrange(cone1.shape[0])]\n",
    "plane2_c2=[[0.0,0.0] for _ in xrange(cone1.shape[0])]\n",
    "\n",
    "plane0_c3=[[0.0,0.0] for _ in xrange(cone1.shape[0])]\n",
    "plane1_c3=[[0.0,0.0] for _ in xrange(cone1.shape[0])]\n",
    "plane2_c3=[[0.0,0.0] for _ in xrange(cone1.shape[0])]"
   ]
  },
  {
   "cell_type": "code",
   "execution_count": null,
   "metadata": {
    "collapsed": false
   },
   "outputs": [],
   "source": [
    "for ix,pt in enumerate(cone1):\n",
    "    k.clear()\n",
    "    k.resize(3)\n",
    "    k[0] = pt[0]\n",
    "    k[1] = pt[1]\n",
    "    k[2] = pt[2]\n",
    "    p0=geoH.Point_3Dto2D(k.data(),0) \n",
    "    p1=geoH.Point_3Dto2D(k.data(),1)\n",
    "    p2=geoH.Point_3Dto2D(k.data(),2)\n",
    "    \n",
    "    plane0_c1[ix][0] = p0.w\n",
    "    plane0_c1[ix][1] = p0.t\n",
    "    plane1_c1[ix][0] = p1.w\n",
    "    plane1_c1[ix][1] = p1.t\n",
    "    plane2_c1[ix][0] = p2.w\n",
    "    plane2_c1[ix][1] = p2.t\n",
    "    \n",
    "for ix,pt in enumerate(cone2):    \n",
    "    k.clear()\n",
    "    k.resize(3)\n",
    "    k[0] = pt[0]\n",
    "    k[1] = pt[1]\n",
    "    k[2] = pt[2]\n",
    "    p0=geoH.Point_3Dto2D(k.data(),0) \n",
    "    p1=geoH.Point_3Dto2D(k.data(),1)\n",
    "    p2=geoH.Point_3Dto2D(k.data(),2)\n",
    "    \n",
    "    plane0_c2[ix][0] = p0.w\n",
    "    plane0_c2[ix][1] = p0.t\n",
    "    plane1_c2[ix][0] = p1.w\n",
    "    plane1_c2[ix][1] = p1.t\n",
    "    plane2_c2[ix][0] = p2.w\n",
    "    plane2_c2[ix][1] = p2.t\n",
    "    \n",
    "for ix,pt in enumerate(cone3):    \n",
    "    k.clear()\n",
    "    k.resize(3)\n",
    "    k[0] = pt[0]\n",
    "    k[1] = pt[1]\n",
    "    k[2] = pt[2]\n",
    "    p0=geoH.Point_3Dto2D(k.data(),0) \n",
    "    p1=geoH.Point_3Dto2D(k.data(),1)\n",
    "    p2=geoH.Point_3Dto2D(k.data(),2)\n",
    "    \n",
    "    plane0_c3[ix][0] = p0.w\n",
    "    plane0_c3[ix][1] = p0.t\n",
    "    plane1_c3[ix][0] = p1.w\n",
    "    plane1_c3[ix][1] = p1.t\n",
    "    plane2_c3[ix][0] = p2.w\n",
    "    plane2_c3[ix][1] = p2.t"
   ]
  },
  {
   "cell_type": "code",
   "execution_count": null,
   "metadata": {
    "collapsed": false
   },
   "outputs": [],
   "source": [
    "p0_c1=np.array(plane0_c1)\n",
    "p1_c1=np.array(plane1_c1)\n",
    "p2_c1=np.array(plane2_c1)\n",
    "p0_c2=np.array(plane0_c2)\n",
    "p1_c2=np.array(plane1_c2)\n",
    "p2_c2=np.array(plane2_c2)\n",
    "p0_c3=np.array(plane0_c3)\n",
    "p1_c3=np.array(plane1_c3)\n",
    "p2_c3=np.array(plane2_c3)"
   ]
  },
  {
   "cell_type": "code",
   "execution_count": null,
   "metadata": {
    "collapsed": true
   },
   "outputs": [],
   "source": [
    "%matplotlib inline"
   ]
  },
  {
   "cell_type": "code",
   "execution_count": null,
   "metadata": {
    "collapsed": false
   },
   "outputs": [],
   "source": [
    "fix,ax=plt.subplots(figsize=(12,6))\n",
    "ax=plt.subplot(3,1,1)\n",
    "ax.plot(p0_c1[:,0],p0_c1[:,1],'o')\n",
    "ax.plot(p0_c2[:,0],p0_c2[:,1],'o')\n",
    "ax.plot(p0_c3[:,0],p0_c3[:,1],'o')\n",
    "\n",
    "ax=plt.subplot(3,1,2)\n",
    "ax.plot(p1_c1[:,0],p1_c1[:,1],'o')\n",
    "ax.plot(p1_c2[:,0],p1_c2[:,1],'o')\n",
    "ax.plot(p1_c3[:,0],p1_c3[:,1],'o')\n",
    "\n",
    "ax=plt.subplot(3,1,3)\n",
    "ax.plot(p2_c1[:,0],p2_c1[:,1],'o')\n",
    "ax.plot(p2_c2[:,0],p2_c2[:,1],'o')\n",
    "ax.plot(p2_c3[:,0],p2_c3[:,1],'o')\n",
    "\n",
    "plt.show()"
   ]
  },
  {
   "cell_type": "code",
   "execution_count": null,
   "metadata": {
    "collapsed": true
   },
   "outputs": [],
   "source": []
  }
 ],
 "metadata": {
  "kernelspec": {
   "display_name": "Python 2",
   "language": "python",
   "name": "python2"
  },
  "language_info": {
   "codemirror_mode": {
    "name": "ipython",
    "version": 2
   },
   "file_extension": ".py",
   "mimetype": "text/x-python",
   "name": "python",
   "nbconvert_exporter": "python",
   "pygments_lexer": "ipython2",
   "version": "2.7.10"
  }
 },
 "nbformat": 4,
 "nbformat_minor": 0
}
